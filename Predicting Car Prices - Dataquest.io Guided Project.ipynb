{
 "cells": [
  {
   "cell_type": "code",
   "execution_count": 4,
   "metadata": {
    "scrolled": false
   },
   "outputs": [
    {
     "data": {
      "text/html": [
       "<div>\n",
       "<style scoped>\n",
       "    .dataframe tbody tr th:only-of-type {\n",
       "        vertical-align: middle;\n",
       "    }\n",
       "\n",
       "    .dataframe tbody tr th {\n",
       "        vertical-align: top;\n",
       "    }\n",
       "\n",
       "    .dataframe thead th {\n",
       "        text-align: right;\n",
       "    }\n",
       "</style>\n",
       "<table border=\"1\" class=\"dataframe\">\n",
       "  <thead>\n",
       "    <tr style=\"text-align: right;\">\n",
       "      <th></th>\n",
       "      <th>symboling</th>\n",
       "      <th>normalized_losses</th>\n",
       "      <th>make</th>\n",
       "      <th>fuel_type</th>\n",
       "      <th>aspiration</th>\n",
       "      <th>num_of_doors</th>\n",
       "      <th>body_style</th>\n",
       "      <th>drive_wheels</th>\n",
       "      <th>engine_location</th>\n",
       "      <th>wheel_base</th>\n",
       "      <th>...</th>\n",
       "      <th>engine_size</th>\n",
       "      <th>fuel_system</th>\n",
       "      <th>bore</th>\n",
       "      <th>stroke</th>\n",
       "      <th>compression</th>\n",
       "      <th>horsepower</th>\n",
       "      <th>peak_rpm</th>\n",
       "      <th>city_mpg</th>\n",
       "      <th>highway_mpg</th>\n",
       "      <th>price</th>\n",
       "    </tr>\n",
       "  </thead>\n",
       "  <tbody>\n",
       "    <tr>\n",
       "      <th>0</th>\n",
       "      <td>3</td>\n",
       "      <td>?</td>\n",
       "      <td>alfa-romero</td>\n",
       "      <td>gas</td>\n",
       "      <td>std</td>\n",
       "      <td>two</td>\n",
       "      <td>convertible</td>\n",
       "      <td>rwd</td>\n",
       "      <td>front</td>\n",
       "      <td>88.6</td>\n",
       "      <td>...</td>\n",
       "      <td>130</td>\n",
       "      <td>mpfi</td>\n",
       "      <td>3.47</td>\n",
       "      <td>2.68</td>\n",
       "      <td>9.0</td>\n",
       "      <td>111</td>\n",
       "      <td>5000</td>\n",
       "      <td>21</td>\n",
       "      <td>27</td>\n",
       "      <td>13495</td>\n",
       "    </tr>\n",
       "    <tr>\n",
       "      <th>1</th>\n",
       "      <td>3</td>\n",
       "      <td>?</td>\n",
       "      <td>alfa-romero</td>\n",
       "      <td>gas</td>\n",
       "      <td>std</td>\n",
       "      <td>two</td>\n",
       "      <td>convertible</td>\n",
       "      <td>rwd</td>\n",
       "      <td>front</td>\n",
       "      <td>88.6</td>\n",
       "      <td>...</td>\n",
       "      <td>130</td>\n",
       "      <td>mpfi</td>\n",
       "      <td>3.47</td>\n",
       "      <td>2.68</td>\n",
       "      <td>9.0</td>\n",
       "      <td>111</td>\n",
       "      <td>5000</td>\n",
       "      <td>21</td>\n",
       "      <td>27</td>\n",
       "      <td>16500</td>\n",
       "    </tr>\n",
       "    <tr>\n",
       "      <th>2</th>\n",
       "      <td>1</td>\n",
       "      <td>?</td>\n",
       "      <td>alfa-romero</td>\n",
       "      <td>gas</td>\n",
       "      <td>std</td>\n",
       "      <td>two</td>\n",
       "      <td>hatchback</td>\n",
       "      <td>rwd</td>\n",
       "      <td>front</td>\n",
       "      <td>94.5</td>\n",
       "      <td>...</td>\n",
       "      <td>152</td>\n",
       "      <td>mpfi</td>\n",
       "      <td>2.68</td>\n",
       "      <td>3.47</td>\n",
       "      <td>9.0</td>\n",
       "      <td>154</td>\n",
       "      <td>5000</td>\n",
       "      <td>19</td>\n",
       "      <td>26</td>\n",
       "      <td>16500</td>\n",
       "    </tr>\n",
       "    <tr>\n",
       "      <th>3</th>\n",
       "      <td>2</td>\n",
       "      <td>164</td>\n",
       "      <td>audi</td>\n",
       "      <td>gas</td>\n",
       "      <td>std</td>\n",
       "      <td>four</td>\n",
       "      <td>sedan</td>\n",
       "      <td>fwd</td>\n",
       "      <td>front</td>\n",
       "      <td>99.8</td>\n",
       "      <td>...</td>\n",
       "      <td>109</td>\n",
       "      <td>mpfi</td>\n",
       "      <td>3.19</td>\n",
       "      <td>3.40</td>\n",
       "      <td>10.0</td>\n",
       "      <td>102</td>\n",
       "      <td>5500</td>\n",
       "      <td>24</td>\n",
       "      <td>30</td>\n",
       "      <td>13950</td>\n",
       "    </tr>\n",
       "    <tr>\n",
       "      <th>4</th>\n",
       "      <td>2</td>\n",
       "      <td>164</td>\n",
       "      <td>audi</td>\n",
       "      <td>gas</td>\n",
       "      <td>std</td>\n",
       "      <td>four</td>\n",
       "      <td>sedan</td>\n",
       "      <td>4wd</td>\n",
       "      <td>front</td>\n",
       "      <td>99.4</td>\n",
       "      <td>...</td>\n",
       "      <td>136</td>\n",
       "      <td>mpfi</td>\n",
       "      <td>3.19</td>\n",
       "      <td>3.40</td>\n",
       "      <td>8.0</td>\n",
       "      <td>115</td>\n",
       "      <td>5500</td>\n",
       "      <td>18</td>\n",
       "      <td>22</td>\n",
       "      <td>17450</td>\n",
       "    </tr>\n",
       "  </tbody>\n",
       "</table>\n",
       "<p>5 rows × 26 columns</p>\n",
       "</div>"
      ],
      "text/plain": [
       "   symboling normalized_losses         make fuel_type aspiration num_of_doors  \\\n",
       "0          3                 ?  alfa-romero       gas        std          two   \n",
       "1          3                 ?  alfa-romero       gas        std          two   \n",
       "2          1                 ?  alfa-romero       gas        std          two   \n",
       "3          2               164         audi       gas        std         four   \n",
       "4          2               164         audi       gas        std         four   \n",
       "\n",
       "    body_style drive_wheels engine_location  wheel_base  ...  engine_size  \\\n",
       "0  convertible          rwd           front        88.6  ...          130   \n",
       "1  convertible          rwd           front        88.6  ...          130   \n",
       "2    hatchback          rwd           front        94.5  ...          152   \n",
       "3        sedan          fwd           front        99.8  ...          109   \n",
       "4        sedan          4wd           front        99.4  ...          136   \n",
       "\n",
       "   fuel_system  bore  stroke compression horsepower  peak_rpm city_mpg  \\\n",
       "0         mpfi  3.47    2.68         9.0        111      5000       21   \n",
       "1         mpfi  3.47    2.68         9.0        111      5000       21   \n",
       "2         mpfi  2.68    3.47         9.0        154      5000       19   \n",
       "3         mpfi  3.19    3.40        10.0        102      5500       24   \n",
       "4         mpfi  3.19    3.40         8.0        115      5500       18   \n",
       "\n",
       "  highway_mpg  price  \n",
       "0          27  13495  \n",
       "1          27  16500  \n",
       "2          26  16500  \n",
       "3          30  13950  \n",
       "4          22  17450  \n",
       "\n",
       "[5 rows x 26 columns]"
      ]
     },
     "execution_count": 4,
     "metadata": {},
     "output_type": "execute_result"
    }
   ],
   "source": [
    "import numpy as np\n",
    "import pandas as pd\n",
    "from sklearn import preprocessing\n",
    "from sklearn.neighbors import KNeighborsRegressor\n",
    "from sklearn.metrics import mean_squared_error\n",
    "\n",
    "cols = ['symboling', 'normalized_losses', 'make', 'fuel_type', 'aspiration', 'num_of_doors', 'body_style', \\\n",
    "       'drive_wheels', 'engine_location', 'wheel_base', 'length', 'width', 'height', 'curb_weight', \\\n",
    "       'engine_type', 'num_of_cylinders', 'engine_size', 'fuel_system', 'bore', 'stroke', 'compression', \\\n",
    "       'horsepower', 'peak_rpm', 'city_mpg', 'highway_mpg', 'price']\n",
    "cars = pd.read_csv('data/imports-85.data', header=None, names=cols)\n",
    "cars.head()"
   ]
  },
  {
   "cell_type": "markdown",
   "metadata": {},
   "source": [
    "The included dataset does not include headers. We have to refer to the source of the data for the column names. Thankfully the columns line up nicely with the provided data.\n",
    "\n",
    "The source of this dataset with definitions can be foudn here: https://archive.ics.uci.edu/ml/datasets/automobile"
   ]
  },
  {
   "cell_type": "code",
   "execution_count": 5,
   "metadata": {
    "scrolled": true
   },
   "outputs": [
    {
     "data": {
      "text/plain": [
       "symboling              int64\n",
       "normalized_losses     object\n",
       "make                  object\n",
       "fuel_type             object\n",
       "aspiration            object\n",
       "num_of_doors          object\n",
       "body_style            object\n",
       "drive_wheels          object\n",
       "engine_location       object\n",
       "wheel_base           float64\n",
       "length               float64\n",
       "width                float64\n",
       "height               float64\n",
       "curb_weight            int64\n",
       "engine_type           object\n",
       "num_of_cylinders      object\n",
       "engine_size            int64\n",
       "fuel_system           object\n",
       "bore                  object\n",
       "stroke                object\n",
       "compression          float64\n",
       "horsepower            object\n",
       "peak_rpm              object\n",
       "city_mpg               int64\n",
       "highway_mpg            int64\n",
       "price                 object\n",
       "dtype: object"
      ]
     },
     "execution_count": 5,
     "metadata": {},
     "output_type": "execute_result"
    }
   ],
   "source": [
    "cars.dtypes"
   ]
  },
  {
   "cell_type": "markdown",
   "metadata": {},
   "source": [
    "With the column headings loaded in, next we should check the data types to see if the data types are correct.\n",
    "\n",
    "If we compare the dictionary, we can identify that these columns should be converted\n",
    "2. normalized-losses - Should be int\n",
    "6. num-of-doors - Is string, but values are written out. Can convert to int\n",
    "16. num-of-cylinders - Is string, but values are written out. Can convert to int\n",
    "19. bore - Should be numeric\n",
    "20. stroke - Should be numeric\n",
    "21. compression - Classified as numeric, but dictionary indicates that it might be an int\n",
    "22. horsepower - Should be numeric or int\n",
    "23. peak-rpm - Should be numeric or int\n",
    "26. price - Should be numeric, maybe int if all values are whole currency units\n",
    "\n",
    "Somes values we'll have to take a quick peek using unique() or other selection methods. Some observations:\n",
    "- bore, stroke have ? in them that prevented Pandas from loading these columns with the correct data type\n",
    "- compression is okay. It was unclear with the min/max range listed whether it could be an integer or not, but an examination of the unique values reveals that clearly that there are decimal places\n",
    "- horsepower, peak_rpm, city_mpg, and highway_mpg should all be int. Like bore and stroke, it has a `?`. We do need to keep in mind that these columns should be converted to an int instead of a numeric\n",
    "- While it's not uncommon for price columns to have decimal places, the price column in this dataset appears to be all whole numbers. This column can be converted with the above group"
   ]
  },
  {
   "cell_type": "code",
   "execution_count": 6,
   "metadata": {},
   "outputs": [
    {
     "data": {
      "text/html": [
       "<div>\n",
       "<style scoped>\n",
       "    .dataframe tbody tr th:only-of-type {\n",
       "        vertical-align: middle;\n",
       "    }\n",
       "\n",
       "    .dataframe tbody tr th {\n",
       "        vertical-align: top;\n",
       "    }\n",
       "\n",
       "    .dataframe thead th {\n",
       "        text-align: right;\n",
       "    }\n",
       "</style>\n",
       "<table border=\"1\" class=\"dataframe\">\n",
       "  <thead>\n",
       "    <tr style=\"text-align: right;\">\n",
       "      <th></th>\n",
       "      <th>symboling</th>\n",
       "      <th>normalized_losses</th>\n",
       "      <th>make</th>\n",
       "      <th>fuel_type</th>\n",
       "      <th>aspiration</th>\n",
       "      <th>num_of_doors</th>\n",
       "      <th>body_style</th>\n",
       "      <th>drive_wheels</th>\n",
       "      <th>engine_location</th>\n",
       "      <th>wheel_base</th>\n",
       "      <th>...</th>\n",
       "      <th>engine_size</th>\n",
       "      <th>fuel_system</th>\n",
       "      <th>bore</th>\n",
       "      <th>stroke</th>\n",
       "      <th>compression</th>\n",
       "      <th>horsepower</th>\n",
       "      <th>peak_rpm</th>\n",
       "      <th>city_mpg</th>\n",
       "      <th>highway_mpg</th>\n",
       "      <th>price</th>\n",
       "    </tr>\n",
       "  </thead>\n",
       "  <tbody>\n",
       "    <tr>\n",
       "      <th>0</th>\n",
       "      <td>3</td>\n",
       "      <td>NaN</td>\n",
       "      <td>alfa-romero</td>\n",
       "      <td>gas</td>\n",
       "      <td>std</td>\n",
       "      <td>two</td>\n",
       "      <td>convertible</td>\n",
       "      <td>rwd</td>\n",
       "      <td>front</td>\n",
       "      <td>88.6</td>\n",
       "      <td>...</td>\n",
       "      <td>130</td>\n",
       "      <td>mpfi</td>\n",
       "      <td>3.47</td>\n",
       "      <td>2.68</td>\n",
       "      <td>9.0</td>\n",
       "      <td>111.0</td>\n",
       "      <td>5000.0</td>\n",
       "      <td>21</td>\n",
       "      <td>27</td>\n",
       "      <td>13495.0</td>\n",
       "    </tr>\n",
       "    <tr>\n",
       "      <th>1</th>\n",
       "      <td>3</td>\n",
       "      <td>NaN</td>\n",
       "      <td>alfa-romero</td>\n",
       "      <td>gas</td>\n",
       "      <td>std</td>\n",
       "      <td>two</td>\n",
       "      <td>convertible</td>\n",
       "      <td>rwd</td>\n",
       "      <td>front</td>\n",
       "      <td>88.6</td>\n",
       "      <td>...</td>\n",
       "      <td>130</td>\n",
       "      <td>mpfi</td>\n",
       "      <td>3.47</td>\n",
       "      <td>2.68</td>\n",
       "      <td>9.0</td>\n",
       "      <td>111.0</td>\n",
       "      <td>5000.0</td>\n",
       "      <td>21</td>\n",
       "      <td>27</td>\n",
       "      <td>16500.0</td>\n",
       "    </tr>\n",
       "    <tr>\n",
       "      <th>2</th>\n",
       "      <td>1</td>\n",
       "      <td>NaN</td>\n",
       "      <td>alfa-romero</td>\n",
       "      <td>gas</td>\n",
       "      <td>std</td>\n",
       "      <td>two</td>\n",
       "      <td>hatchback</td>\n",
       "      <td>rwd</td>\n",
       "      <td>front</td>\n",
       "      <td>94.5</td>\n",
       "      <td>...</td>\n",
       "      <td>152</td>\n",
       "      <td>mpfi</td>\n",
       "      <td>2.68</td>\n",
       "      <td>3.47</td>\n",
       "      <td>9.0</td>\n",
       "      <td>154.0</td>\n",
       "      <td>5000.0</td>\n",
       "      <td>19</td>\n",
       "      <td>26</td>\n",
       "      <td>16500.0</td>\n",
       "    </tr>\n",
       "    <tr>\n",
       "      <th>3</th>\n",
       "      <td>2</td>\n",
       "      <td>164.0</td>\n",
       "      <td>audi</td>\n",
       "      <td>gas</td>\n",
       "      <td>std</td>\n",
       "      <td>four</td>\n",
       "      <td>sedan</td>\n",
       "      <td>fwd</td>\n",
       "      <td>front</td>\n",
       "      <td>99.8</td>\n",
       "      <td>...</td>\n",
       "      <td>109</td>\n",
       "      <td>mpfi</td>\n",
       "      <td>3.19</td>\n",
       "      <td>3.40</td>\n",
       "      <td>10.0</td>\n",
       "      <td>102.0</td>\n",
       "      <td>5500.0</td>\n",
       "      <td>24</td>\n",
       "      <td>30</td>\n",
       "      <td>13950.0</td>\n",
       "    </tr>\n",
       "    <tr>\n",
       "      <th>4</th>\n",
       "      <td>2</td>\n",
       "      <td>164.0</td>\n",
       "      <td>audi</td>\n",
       "      <td>gas</td>\n",
       "      <td>std</td>\n",
       "      <td>four</td>\n",
       "      <td>sedan</td>\n",
       "      <td>4wd</td>\n",
       "      <td>front</td>\n",
       "      <td>99.4</td>\n",
       "      <td>...</td>\n",
       "      <td>136</td>\n",
       "      <td>mpfi</td>\n",
       "      <td>3.19</td>\n",
       "      <td>3.40</td>\n",
       "      <td>8.0</td>\n",
       "      <td>115.0</td>\n",
       "      <td>5500.0</td>\n",
       "      <td>18</td>\n",
       "      <td>22</td>\n",
       "      <td>17450.0</td>\n",
       "    </tr>\n",
       "  </tbody>\n",
       "</table>\n",
       "<p>5 rows × 26 columns</p>\n",
       "</div>"
      ],
      "text/plain": [
       "   symboling  normalized_losses         make fuel_type aspiration  \\\n",
       "0          3                NaN  alfa-romero       gas        std   \n",
       "1          3                NaN  alfa-romero       gas        std   \n",
       "2          1                NaN  alfa-romero       gas        std   \n",
       "3          2              164.0         audi       gas        std   \n",
       "4          2              164.0         audi       gas        std   \n",
       "\n",
       "  num_of_doors   body_style drive_wheels engine_location  wheel_base  ...  \\\n",
       "0          two  convertible          rwd           front        88.6  ...   \n",
       "1          two  convertible          rwd           front        88.6  ...   \n",
       "2          two    hatchback          rwd           front        94.5  ...   \n",
       "3         four        sedan          fwd           front        99.8  ...   \n",
       "4         four        sedan          4wd           front        99.4  ...   \n",
       "\n",
       "   engine_size  fuel_system  bore  stroke compression horsepower  peak_rpm  \\\n",
       "0          130         mpfi  3.47    2.68         9.0      111.0    5000.0   \n",
       "1          130         mpfi  3.47    2.68         9.0      111.0    5000.0   \n",
       "2          152         mpfi  2.68    3.47         9.0      154.0    5000.0   \n",
       "3          109         mpfi  3.19    3.40        10.0      102.0    5500.0   \n",
       "4          136         mpfi  3.19    3.40         8.0      115.0    5500.0   \n",
       "\n",
       "  city_mpg  highway_mpg    price  \n",
       "0       21           27  13495.0  \n",
       "1       21           27  16500.0  \n",
       "2       19           26  16500.0  \n",
       "3       24           30  13950.0  \n",
       "4       18           22  17450.0  \n",
       "\n",
       "[5 rows x 26 columns]"
      ]
     },
     "execution_count": 6,
     "metadata": {},
     "output_type": "execute_result"
    }
   ],
   "source": [
    "# first step, let's get rid of the question marks and replace them with blanks\n",
    "cars = cars.replace('?', np.nan)\n",
    "cars['horsepower'].unique()\n",
    "to_numeric_cols = ['bore', 'stroke', 'compression']\n",
    "to_int_cols = ['normalized_losses', 'horsepower', 'peak_rpm', 'city_mpg', 'highway_mpg', 'price']\n",
    "\n",
    "test1 = [pd.to_numeric(cars[col], errors='coerce', downcast='float') for col in to_numeric_cols]\n",
    "test2 = [pd.to_numeric(cars[col], errors='coerce', downcast='integer') for col in to_int_cols]\n",
    "for col in to_numeric_cols:\n",
    "    cars[col] = pd.to_numeric(cars[col], errors='coerce', downcast='float')\n",
    "\n",
    "for col in to_int_cols:\n",
    "    cars[col] = pd.to_numeric(cars[col], errors='coerce', downcast='integer')\n",
    "cars.head()"
   ]
  },
  {
   "cell_type": "markdown",
   "metadata": {},
   "source": [
    "To convert `num_of_doors` and `num_of_cylinders`, we'll need to use a dictionary to match the word to the numeral. We can get away with manually specifiying the dictionary because there are a limited number of unique values. We encapsulate this in a try/catch block because NaN values will return an error.\n",
    "\n",
    "Note that by using NaN, this will make some columns incompatible with an integer dtype. It is probably okay to use 0 as a substitute for NaN, but my general preference is to use a `NaN` or `None` type whenever we aren't completely certain of the data type"
   ]
  },
  {
   "cell_type": "code",
   "execution_count": 7,
   "metadata": {},
   "outputs": [],
   "source": [
    "word_to_num = {'two':2, 'three':3, 'four':4, 'five':5, 'six':6, 'seven':7, 'eight':8, 'nine':9, 'ten':10, 'eleven':11, 'twelve':12}\n",
    "\n",
    "def word_to_number(word):\n",
    "    try:\n",
    "        return word_to_num[word]\n",
    "    except:\n",
    "        return np.nan\n",
    "\n",
    "number_word_cols = ['num_of_doors', 'num_of_cylinders']\n",
    "for col in number_word_cols:\n",
    "    cars[col] = pd.to_numeric(cars[col].apply(word_to_number), errors='coerce', downcast='integer')"
   ]
  },
  {
   "cell_type": "code",
   "execution_count": 8,
   "metadata": {},
   "outputs": [
    {
     "data": {
      "text/plain": [
       "symboling              int64\n",
       "normalized_losses    float64\n",
       "make                  object\n",
       "fuel_type             object\n",
       "aspiration            object\n",
       "num_of_doors         float64\n",
       "body_style            object\n",
       "drive_wheels          object\n",
       "engine_location       object\n",
       "wheel_base           float64\n",
       "length               float64\n",
       "width                float64\n",
       "height               float64\n",
       "curb_weight            int64\n",
       "engine_type           object\n",
       "num_of_cylinders        int8\n",
       "engine_size            int64\n",
       "fuel_system           object\n",
       "bore                 float32\n",
       "stroke               float32\n",
       "compression          float32\n",
       "horsepower           float64\n",
       "peak_rpm             float64\n",
       "city_mpg                int8\n",
       "highway_mpg             int8\n",
       "price                float64\n",
       "dtype: object"
      ]
     },
     "execution_count": 8,
     "metadata": {},
     "output_type": "execute_result"
    }
   ],
   "source": [
    "cars.dtypes"
   ]
  },
  {
   "cell_type": "markdown",
   "metadata": {},
   "source": [
    "Okay! It's pretty clear that the `price` column is our target for this project. It may be possible to use an MPG column as a predictor if a buyer is looking to buy a car with a certain MPG.\n",
    "\n",
    "There are a good amount of numerical columns in this set that we can use for feature columns. MPG, horsepower, columns related to size, and the number of doors/cylinders look like they can be good candidates for features.\n",
    "\n",
    "I'm not enough of a mechanic to understand some other columns, such as normalized_losses, or symboling, or compression. Additional research would be needed in order to conclusively determine if they can be used.\n",
    "\n",
    "Finally, let's also normalized the `normalized_losses` column."
   ]
  },
  {
   "cell_type": "code",
   "execution_count": 9,
   "metadata": {},
   "outputs": [
    {
     "data": {
      "text/plain": [
       "(159, 26)"
      ]
     },
     "execution_count": 9,
     "metadata": {},
     "output_type": "execute_result"
    }
   ],
   "source": [
    "rescaler = preprocessing.MinMaxScaler()\n",
    "normalized_losses = cars[['normalized_losses']]\n",
    "scaled = rescaler.fit_transform(normalized_losses)\n",
    "cars['normalized_losses'] = scaled\n",
    "#print(cars['normalized_losses'])\n",
    "\n",
    "# the model does not like NaN values in inputs\n",
    "cars = cars.dropna()\n",
    "cars.shape"
   ]
  },
  {
   "cell_type": "markdown",
   "metadata": {},
   "source": [
    "## Running the Model\n",
    "With the data cleaned, the next step is to start some analysis. First we'll encapsulate the workflow by using our nifty ML functions inside a function.\n",
    "\n",
    "The training set will be a simple split of the first 75% of the rows in the dataset."
   ]
  },
  {
   "cell_type": "code",
   "execution_count": 10,
   "metadata": {},
   "outputs": [
    {
     "name": "stdout",
     "output_type": "stream",
     "text": [
      "normalized_losses : 7163.454380325179\n",
      "num_of_doors : 4596.518074042568\n",
      "wheel_base : 2780.5685197455573\n",
      "length : 3743.6411554795154\n",
      "width : 3255.613799731166\n",
      "height : 5424.914824308305\n",
      "curb_weight : 2382.012942660052\n",
      "num_of_cylinders : 4096.305867485972\n",
      "engine_size : 3533.611245737142\n",
      "bore : 5300.910054132215\n",
      "stroke : 7260.7657035604725\n",
      "compression : 5547.402673053399\n",
      "horsepower : 3944.6014507171694\n",
      "peak_rpm : 5893.609675063322\n",
      "city_mpg : 3595.7557442073285\n",
      "highway_mpg : 2827.8504514913793\n",
      "count      159.000000\n",
      "mean     11445.729560\n",
      "std       5877.856195\n",
      "min       5118.000000\n",
      "25%       7372.000000\n",
      "50%       9233.000000\n",
      "75%      14719.500000\n",
      "max      35056.000000\n",
      "Name: price, dtype: float64\n"
     ]
    }
   ],
   "source": [
    "def knn_train_test(train_cols, target_col, data, k=5):\n",
    "    # performs a K Neighbors regression and returns the mse\n",
    "    train_rows = int(round(data.shape[0]*.75, 0))\n",
    "    train = data.iloc[:train_rows]\n",
    "    test = data.iloc[train_rows:]\n",
    "    \n",
    "    knn = KNeighborsRegressor(n_neighbors=k)\n",
    "    knn.fit(train[train_cols], train[target_col])\n",
    "    predictions = knn.predict(test[train_cols])\n",
    "\n",
    "    return mean_squared_error(test[target_col], predictions)**.5\n",
    "\n",
    "rmse = knn_train_test(['city_mpg'], ['price'], cars, 5)\n",
    "# this model does not seem to like NaN values which are still in our dataset\n",
    "numeric_feat_cols = ['normalized_losses', 'num_of_doors', 'wheel_base', 'length', 'width', 'height',\n",
    "                'curb_weight', 'num_of_cylinders', 'engine_size', 'bore', 'stroke', 'compression',\n",
    "               'horsepower', 'peak_rpm', 'city_mpg', 'highway_mpg']\n",
    "\n",
    "results = {}\n",
    "for col in numeric_feat_cols:\n",
    "    rmse = knn_train_test([col], ['price'], cars, 5)\n",
    "    results[col] = rmse\n",
    "    \n",
    "[print(key, \":\", value) for key, value in results.items()]\n",
    "\n",
    "print(cars['price'].describe())"
   ]
  },
  {
   "cell_type": "markdown",
   "metadata": {},
   "source": [
    "The curb weight seems to have the lowest RMSE. However, all of these values are quite high, indicating that one variable alone isn't a good predictor of price.\n",
    "\n",
    "Let's run a bunch of tests using all of the k values."
   ]
  },
  {
   "cell_type": "code",
   "execution_count": 11,
   "metadata": {
    "scrolled": true
   },
   "outputs": [
    {
     "data": {
      "application/vnd.vegalite.v2+json": {
       "$schema": "https://vega.github.io/schema/vega-lite/v2.6.0.json",
       "config": {
        "view": {
         "height": 300,
         "width": 400
        }
       },
       "data": {
        "name": "data-d00ab8ab386e94c367f699c02514d78d"
       },
       "datasets": {
        "data-d00ab8ab386e94c367f699c02514d78d": [
         {
          "feature": "bore",
          "k": 1,
          "rmse": 6601.483390117709
         },
         {
          "feature": "city_mpg",
          "k": 1,
          "rmse": 3502.7595621167034
         },
         {
          "feature": "compression",
          "k": 1,
          "rmse": 6003.063376310465
         },
         {
          "feature": "curb_weight",
          "k": 1,
          "rmse": 4023.6703828718373
         },
         {
          "feature": "engine_size",
          "k": 1,
          "rmse": 5513.286064136342
         },
         {
          "feature": "height",
          "k": 1,
          "rmse": 9317.651895729954
         },
         {
          "feature": "highway_mpg",
          "k": 1,
          "rmse": 3853.0187126459687
         },
         {
          "feature": "horsepower",
          "k": 1,
          "rmse": 4462.340327675602
         },
         {
          "feature": "length",
          "k": 1,
          "rmse": 7469.947583484103
         },
         {
          "feature": "normalized_losses",
          "k": 1,
          "rmse": 7605.400784968535
         },
         {
          "feature": "num_of_cylinders",
          "k": 1,
          "rmse": 5528.538638284081
         },
         {
          "feature": "num_of_doors",
          "k": 1,
          "rmse": 7086.521445674175
         },
         {
          "feature": "peak_rpm",
          "k": 1,
          "rmse": 7988.623704994497
         },
         {
          "feature": "stroke",
          "k": 1,
          "rmse": 7257.239986730493
         },
         {
          "feature": "wheel_base",
          "k": 1,
          "rmse": 3523.441222725306
         },
         {
          "feature": "width",
          "k": 1,
          "rmse": 4227.606521425569
         },
         {
          "feature": "bore",
          "k": 3,
          "rmse": 5618.779203607212
         },
         {
          "feature": "city_mpg",
          "k": 3,
          "rmse": 3415.1344739263195
         },
         {
          "feature": "compression",
          "k": 3,
          "rmse": 6053.660272696364
         },
         {
          "feature": "curb_weight",
          "k": 3,
          "rmse": 2721.3200269150425
         },
         {
          "feature": "engine_size",
          "k": 3,
          "rmse": 3686.0391671368156
         },
         {
          "feature": "height",
          "k": 3,
          "rmse": 6590.491637368355
         },
         {
          "feature": "highway_mpg",
          "k": 3,
          "rmse": 2976.1011015532836
         },
         {
          "feature": "horsepower",
          "k": 3,
          "rmse": 3740.5571469293773
         },
         {
          "feature": "length",
          "k": 3,
          "rmse": 5846.379178840333
         },
         {
          "feature": "normalized_losses",
          "k": 3,
          "rmse": 8481.317513282422
         },
         {
          "feature": "num_of_cylinders",
          "k": 3,
          "rmse": 4275.235552639825
         },
         {
          "feature": "num_of_doors",
          "k": 3,
          "rmse": 5243.308152885075
         },
         {
          "feature": "peak_rpm",
          "k": 3,
          "rmse": 6898.382356876623
         },
         {
          "feature": "stroke",
          "k": 3,
          "rmse": 7957.855781832468
         },
         {
          "feature": "wheel_base",
          "k": 3,
          "rmse": 3232.9314282001783
         },
         {
          "feature": "width",
          "k": 3,
          "rmse": 3654.8632152547407
         },
         {
          "feature": "bore",
          "k": 5,
          "rmse": 5300.910054132215
         },
         {
          "feature": "city_mpg",
          "k": 5,
          "rmse": 3595.7557442073285
         },
         {
          "feature": "compression",
          "k": 5,
          "rmse": 5547.402673053399
         },
         {
          "feature": "curb_weight",
          "k": 5,
          "rmse": 2382.012942660052
         },
         {
          "feature": "engine_size",
          "k": 5,
          "rmse": 3533.611245737142
         },
         {
          "feature": "height",
          "k": 5,
          "rmse": 5424.914824308305
         },
         {
          "feature": "highway_mpg",
          "k": 5,
          "rmse": 2827.8504514913793
         },
         {
          "feature": "horsepower",
          "k": 5,
          "rmse": 3944.6014507171694
         },
         {
          "feature": "length",
          "k": 5,
          "rmse": 3743.6411554795154
         },
         {
          "feature": "normalized_losses",
          "k": 5,
          "rmse": 7163.454380325179
         },
         {
          "feature": "num_of_cylinders",
          "k": 5,
          "rmse": 4096.305867485972
         },
         {
          "feature": "num_of_doors",
          "k": 5,
          "rmse": 4596.518074042568
         },
         {
          "feature": "peak_rpm",
          "k": 5,
          "rmse": 5893.609675063322
         },
         {
          "feature": "stroke",
          "k": 5,
          "rmse": 7260.7657035604725
         },
         {
          "feature": "wheel_base",
          "k": 5,
          "rmse": 2780.5685197455573
         },
         {
          "feature": "width",
          "k": 5,
          "rmse": 3255.613799731166
         },
         {
          "feature": "bore",
          "k": 7,
          "rmse": 4750.72367645183
         },
         {
          "feature": "city_mpg",
          "k": 7,
          "rmse": 3654.477592555439
         },
         {
          "feature": "compression",
          "k": 7,
          "rmse": 6066.065400434366
         },
         {
          "feature": "curb_weight",
          "k": 7,
          "rmse": 2350.8330362417732
         },
         {
          "feature": "engine_size",
          "k": 7,
          "rmse": 3560.2422873869073
         },
         {
          "feature": "height",
          "k": 7,
          "rmse": 5055.256261999958
         },
         {
          "feature": "highway_mpg",
          "k": 7,
          "rmse": 3034.7140031001677
         },
         {
          "feature": "horsepower",
          "k": 7,
          "rmse": 3659.3053856028528
         },
         {
          "feature": "length",
          "k": 7,
          "rmse": 3241.204455987034
         },
         {
          "feature": "normalized_losses",
          "k": 7,
          "rmse": 5713.933384673801
         },
         {
          "feature": "num_of_cylinders",
          "k": 7,
          "rmse": 3965.1405881347346
         },
         {
          "feature": "num_of_doors",
          "k": 7,
          "rmse": 5005.066020533392
         },
         {
          "feature": "peak_rpm",
          "k": 7,
          "rmse": 6449.568000839202
         },
         {
          "feature": "stroke",
          "k": 7,
          "rmse": 5759.997060834
         },
         {
          "feature": "wheel_base",
          "k": 7,
          "rmse": 2890.417984479062
         },
         {
          "feature": "width",
          "k": 7,
          "rmse": 3074.408082983501
         },
         {
          "feature": "bore",
          "k": 9,
          "rmse": 4562.598145468987
         },
         {
          "feature": "city_mpg",
          "k": 9,
          "rmse": 3464.0620979147984
         },
         {
          "feature": "compression",
          "k": 9,
          "rmse": 5960.085099882342
         },
         {
          "feature": "curb_weight",
          "k": 9,
          "rmse": 2580.379796370782
         },
         {
          "feature": "engine_size",
          "k": 9,
          "rmse": 3416.484164863849
         },
         {
          "feature": "height",
          "k": 9,
          "rmse": 4472.896113685982
         },
         {
          "feature": "highway_mpg",
          "k": 9,
          "rmse": 2912.291603946925
         },
         {
          "feature": "horsepower",
          "k": 9,
          "rmse": 3627.446938972606
         },
         {
          "feature": "length",
          "k": 9,
          "rmse": 2938.4288529882897
         },
         {
          "feature": "normalized_losses",
          "k": 9,
          "rmse": 5291.422617177752
         },
         {
          "feature": "num_of_cylinders",
          "k": 9,
          "rmse": 4227.18111700784
         },
         {
          "feature": "num_of_doors",
          "k": 9,
          "rmse": 5257.17706932833
         },
         {
          "feature": "peak_rpm",
          "k": 9,
          "rmse": 6956.0678033109525
         },
         {
          "feature": "stroke",
          "k": 9,
          "rmse": 5405.125844573742
         },
         {
          "feature": "wheel_base",
          "k": 9,
          "rmse": 2848.6445094201176
         },
         {
          "feature": "width",
          "k": 9,
          "rmse": 2799.715260599209
         }
        ]
       },
       "encoding": {
        "color": {
         "field": "feature",
         "type": "nominal"
        },
        "x": {
         "field": "k",
         "type": "quantitative"
        },
        "y": {
         "field": "rmse",
         "type": "quantitative"
        }
       },
       "mark": "line"
      },
      "image/png": "[encoded data removed]",
      "text/plain": [
       "<VegaLite 2 object>\n",
       "\n",
       "If you see this message, it means the renderer has not been properly enabled\n",
       "for the frontend that you are using. For more information, see\n",
       "https://altair-viz.github.io/user_guide/troubleshooting.html\n"
      ]
     },
     "execution_count": 11,
     "metadata": {},
     "output_type": "execute_result"
    }
   ],
   "source": [
    "import altair as alt\n",
    "\n",
    "k_values = [1, 3, 5, 7, 9]\n",
    "numeric_feat_cols.sort(key=str.lower)\n",
    "\n",
    "col_list = []\n",
    "rmse_list = []\n",
    "k_list = []\n",
    "\n",
    "for k in k_values:\n",
    "    rmses = []\n",
    "    for col in numeric_feat_cols:\n",
    "        rmse = knn_train_test([col], ['price'], cars, k)\n",
    "        rmse_list.append(rmse)\n",
    "        col_list.append(col)\n",
    "        k_list.append(k)\n",
    "        \n",
    "results_df = pd.DataFrame()\n",
    "results_df['feature'] = col_list\n",
    "results_df['k'] = k_list\n",
    "results_df['rmse'] = rmse_list\n",
    "\n",
    "alt.Chart(results_df).mark_line().encode(\n",
    "    x='k',\n",
    "    y='rmse',\n",
    "    color='feature'\n",
    ")"
   ]
  },
  {
   "cell_type": "code",
   "execution_count": 12,
   "metadata": {},
   "outputs": [
    {
     "data": {
      "text/html": [
       "<div>\n",
       "<style scoped>\n",
       "    .dataframe tbody tr th:only-of-type {\n",
       "        vertical-align: middle;\n",
       "    }\n",
       "\n",
       "    .dataframe tbody tr th {\n",
       "        vertical-align: top;\n",
       "    }\n",
       "\n",
       "    .dataframe thead th {\n",
       "        text-align: right;\n",
       "    }\n",
       "</style>\n",
       "<table border=\"1\" class=\"dataframe\">\n",
       "  <thead>\n",
       "    <tr style=\"text-align: right;\">\n",
       "      <th></th>\n",
       "      <th>rmse</th>\n",
       "    </tr>\n",
       "    <tr>\n",
       "      <th>k</th>\n",
       "      <th></th>\n",
       "    </tr>\n",
       "  </thead>\n",
       "  <tbody>\n",
       "    <tr>\n",
       "      <th>1</th>\n",
       "      <td>5872.787100</td>\n",
       "    </tr>\n",
       "    <tr>\n",
       "      <th>3</th>\n",
       "      <td>5024.522263</td>\n",
       "    </tr>\n",
       "    <tr>\n",
       "      <th>5</th>\n",
       "      <td>4459.221035</td>\n",
       "    </tr>\n",
       "    <tr>\n",
       "      <th>7</th>\n",
       "      <td>4264.459576</td>\n",
       "    </tr>\n",
       "    <tr>\n",
       "      <th>9</th>\n",
       "      <td>4170.000440</td>\n",
       "    </tr>\n",
       "  </tbody>\n",
       "</table>\n",
       "</div>"
      ],
      "text/plain": [
       "          rmse\n",
       "k             \n",
       "1  5872.787100\n",
       "3  5024.522263\n",
       "5  4459.221035\n",
       "7  4264.459576\n",
       "9  4170.000440"
      ]
     },
     "execution_count": 12,
     "metadata": {},
     "output_type": "execute_result"
    }
   ],
   "source": [
    "results_df.groupby('k').mean()"
   ]
  },
  {
   "cell_type": "code",
   "execution_count": 13,
   "metadata": {},
   "outputs": [
    {
     "data": {
      "application/vnd.vegalite.v2+json": {
       "$schema": "https://vega.github.io/schema/vega-lite/v2.6.0.json",
       "config": {
        "view": {
         "height": 300,
         "width": 400
        }
       },
       "data": {
        "name": "data-5c38991a805790fddc571237094d1b23"
       },
       "datasets": {
        "data-5c38991a805790fddc571237094d1b23": [
         {
          "feature": "bore",
          "k": 9,
          "rmse": 4562.598145468987
         },
         {
          "feature": "city_mpg",
          "k": 9,
          "rmse": 3464.0620979147984
         },
         {
          "feature": "curb_weight",
          "k": 9,
          "rmse": 2580.379796370782
         },
         {
          "feature": "engine_size",
          "k": 9,
          "rmse": 3416.484164863849
         },
         {
          "feature": "height",
          "k": 9,
          "rmse": 4472.896113685982
         },
         {
          "feature": "highway_mpg",
          "k": 9,
          "rmse": 2912.291603946925
         },
         {
          "feature": "horsepower",
          "k": 9,
          "rmse": 3627.446938972606
         },
         {
          "feature": "length",
          "k": 9,
          "rmse": 2938.4288529882897
         },
         {
          "feature": "num_of_cylinders",
          "k": 9,
          "rmse": 4227.18111700784
         },
         {
          "feature": "wheel_base",
          "k": 9,
          "rmse": 2848.6445094201176
         },
         {
          "feature": "width",
          "k": 9,
          "rmse": 2799.715260599209
         }
        ]
       },
       "encoding": {
        "x": {
         "field": "feature",
         "sort": {
          "field": "rmse",
          "op": "average"
         },
         "type": "nominal"
        },
        "y": {
         "field": "rmse",
         "type": "quantitative"
        }
       },
       "mark": "bar"
      },
      "image/png": "[encoded data removed]",
      "text/plain": [
       "<VegaLite 2 object>\n",
       "\n",
       "If you see this message, it means the renderer has not been properly enabled\n",
       "for the frontend that you are using. For more information, see\n",
       "https://altair-viz.github.io/user_guide/troubleshooting.html\n"
      ]
     },
     "execution_count": 13,
     "metadata": {},
     "output_type": "execute_result"
    }
   ],
   "source": [
    "ff = results_df[(results_df['k']==9)&(results_df['rmse']<5000)]\n",
    "alt.Chart(ff).mark_bar().encode(\n",
    "    x=alt.X('feature:N', sort=alt.EncodingSortField(field='rmse', op='average')),\n",
    "    y='rmse',\n",
    ")"
   ]
  },
  {
   "cell_type": "code",
   "execution_count": 14,
   "metadata": {},
   "outputs": [
    {
     "data": {
      "application/vnd.vegalite.v2+json": {
       "$schema": "https://vega.github.io/schema/vega-lite/v2.6.0.json",
       "config": {
        "view": {
         "height": 300,
         "width": 400
        }
       },
       "data": {
        "name": "data-d6e9b1d6c365ef14eb1ecda879a8ceb9"
       },
       "datasets": {
        "data-d6e9b1d6c365ef14eb1ecda879a8ceb9": [
         {
          "feature": "bore",
          "k": 7,
          "rmse": 4750.72367645183
         },
         {
          "feature": "city_mpg",
          "k": 7,
          "rmse": 3654.477592555439
         },
         {
          "feature": "curb_weight",
          "k": 7,
          "rmse": 2350.8330362417732
         },
         {
          "feature": "engine_size",
          "k": 7,
          "rmse": 3560.2422873869073
         },
         {
          "feature": "highway_mpg",
          "k": 7,
          "rmse": 3034.7140031001677
         },
         {
          "feature": "horsepower",
          "k": 7,
          "rmse": 3659.3053856028528
         },
         {
          "feature": "length",
          "k": 7,
          "rmse": 3241.204455987034
         },
         {
          "feature": "num_of_cylinders",
          "k": 7,
          "rmse": 3965.1405881347346
         },
         {
          "feature": "wheel_base",
          "k": 7,
          "rmse": 2890.417984479062
         },
         {
          "feature": "width",
          "k": 7,
          "rmse": 3074.408082983501
         }
        ]
       },
       "encoding": {
        "x": {
         "field": "feature",
         "sort": {
          "field": "rmse",
          "op": "average"
         },
         "type": "nominal"
        },
        "y": {
         "field": "rmse",
         "type": "quantitative"
        }
       },
       "mark": "bar"
      },
      "image/png": "[encoded data removed]",
      "text/plain": [
       "<VegaLite 2 object>\n",
       "\n",
       "If you see this message, it means the renderer has not been properly enabled\n",
       "for the frontend that you are using. For more information, see\n",
       "https://altair-viz.github.io/user_guide/troubleshooting.html\n"
      ]
     },
     "execution_count": 14,
     "metadata": {},
     "output_type": "execute_result"
    }
   ],
   "source": [
    "ff = results_df[(results_df['k']==7) & (results_df['rmse']<5000)]\n",
    "alt.Chart(ff).mark_bar().encode(\n",
    "    x=alt.X('feature:N', sort=alt.EncodingSortField(field='rmse', op='average')),\n",
    "    y='rmse',\n",
    ")"
   ]
  },
  {
   "cell_type": "code",
   "execution_count": 15,
   "metadata": {},
   "outputs": [
    {
     "data": {
      "text/html": [
       "<div>\n",
       "<style scoped>\n",
       "    .dataframe tbody tr th:only-of-type {\n",
       "        vertical-align: middle;\n",
       "    }\n",
       "\n",
       "    .dataframe tbody tr th {\n",
       "        vertical-align: top;\n",
       "    }\n",
       "\n",
       "    .dataframe thead th {\n",
       "        text-align: right;\n",
       "    }\n",
       "</style>\n",
       "<table border=\"1\" class=\"dataframe\">\n",
       "  <thead>\n",
       "    <tr style=\"text-align: right;\">\n",
       "      <th></th>\n",
       "      <th>feature</th>\n",
       "      <th>k</th>\n",
       "      <th>rmse</th>\n",
       "    </tr>\n",
       "  </thead>\n",
       "  <tbody>\n",
       "    <tr>\n",
       "      <th>51</th>\n",
       "      <td>curb_weight</td>\n",
       "      <td>7</td>\n",
       "      <td>2350.833036</td>\n",
       "    </tr>\n",
       "    <tr>\n",
       "      <th>35</th>\n",
       "      <td>curb_weight</td>\n",
       "      <td>5</td>\n",
       "      <td>2382.012943</td>\n",
       "    </tr>\n",
       "    <tr>\n",
       "      <th>67</th>\n",
       "      <td>curb_weight</td>\n",
       "      <td>9</td>\n",
       "      <td>2580.379796</td>\n",
       "    </tr>\n",
       "    <tr>\n",
       "      <th>19</th>\n",
       "      <td>curb_weight</td>\n",
       "      <td>3</td>\n",
       "      <td>2721.320027</td>\n",
       "    </tr>\n",
       "    <tr>\n",
       "      <th>46</th>\n",
       "      <td>wheel_base</td>\n",
       "      <td>5</td>\n",
       "      <td>2780.568520</td>\n",
       "    </tr>\n",
       "    <tr>\n",
       "      <th>79</th>\n",
       "      <td>width</td>\n",
       "      <td>9</td>\n",
       "      <td>2799.715261</td>\n",
       "    </tr>\n",
       "    <tr>\n",
       "      <th>38</th>\n",
       "      <td>highway_mpg</td>\n",
       "      <td>5</td>\n",
       "      <td>2827.850451</td>\n",
       "    </tr>\n",
       "    <tr>\n",
       "      <th>78</th>\n",
       "      <td>wheel_base</td>\n",
       "      <td>9</td>\n",
       "      <td>2848.644509</td>\n",
       "    </tr>\n",
       "    <tr>\n",
       "      <th>62</th>\n",
       "      <td>wheel_base</td>\n",
       "      <td>7</td>\n",
       "      <td>2890.417984</td>\n",
       "    </tr>\n",
       "    <tr>\n",
       "      <th>70</th>\n",
       "      <td>highway_mpg</td>\n",
       "      <td>9</td>\n",
       "      <td>2912.291604</td>\n",
       "    </tr>\n",
       "  </tbody>\n",
       "</table>\n",
       "</div>"
      ],
      "text/plain": [
       "        feature  k         rmse\n",
       "51  curb_weight  7  2350.833036\n",
       "35  curb_weight  5  2382.012943\n",
       "67  curb_weight  9  2580.379796\n",
       "19  curb_weight  3  2721.320027\n",
       "46   wheel_base  5  2780.568520\n",
       "79        width  9  2799.715261\n",
       "38  highway_mpg  5  2827.850451\n",
       "78   wheel_base  9  2848.644509\n",
       "62   wheel_base  7  2890.417984\n",
       "70  highway_mpg  9  2912.291604"
      ]
     },
     "execution_count": 15,
     "metadata": {},
     "output_type": "execute_result"
    }
   ],
   "source": [
    "results_df.sort_values('rmse').head(10)"
   ]
  },
  {
   "cell_type": "markdown",
   "metadata": {},
   "source": [
    "All values of k used still give us a rather high RMSE. Sorting our results by the lowest RMSE show us that curb weight has the lowest RMSE overall. The minimum RMSE occurs with a k value of 7, although a k value of 9 contains the lowest average RMSE among all features.\n",
    "\n",
    "The five best columns appear to be curb_weight, wheel_base, highway_mpg, width, and length. These columns look to have the lowest RMSE when the model is run for all of the k values we using."
   ]
  },
  {
   "cell_type": "code",
   "execution_count": 16,
   "metadata": {},
   "outputs": [
    {
     "data": {
      "text/plain": [
       "2601.9763455880993"
      ]
     },
     "execution_count": 16,
     "metadata": {},
     "output_type": "execute_result"
    }
   ],
   "source": [
    "rmse_all = knn_train_test(numeric_feat_cols, ['price'], cars)\n",
    "rmse_all"
   ]
  },
  {
   "cell_type": "code",
   "execution_count": 17,
   "metadata": {},
   "outputs": [
    {
     "name": "stdout",
     "output_type": "stream",
     "text": [
      "RMSE Best Two: 2436.0418818238736\n",
      "RMSE Best Three: 2436.106014318753\n",
      "RMSE Best Four: 2436.106014318753\n",
      "RMSE Best Five: 2435.0733485872656\n"
     ]
    }
   ],
   "source": [
    "rmse_two = knn_train_test(['curb_weight', 'wheel_base'], ['price'], cars)\n",
    "rmse_three = knn_train_test(['curb_weight', 'wheel_base', 'highway_mpg'], ['price'], cars)\n",
    "rmse_four = knn_train_test(['curb_weight', 'wheel_base', 'highway_mpg', 'width'], ['price'], cars)\n",
    "rmse_five = knn_train_test(['curb_weight', 'wheel_base', 'highway_mpg', 'width', 'length'], ['price'], cars)\n",
    "\n",
    "print(\"RMSE Best Two:\", rmse_two)\n",
    "print(\"RMSE Best Three:\", rmse_three)\n",
    "print(\"RMSE Best Four:\", rmse_four)\n",
    "print(\"RMSE Best Five:\", rmse_five)"
   ]
  },
  {
   "cell_type": "markdown",
   "metadata": {},
   "source": [
    "Jamming all of the features into our model results in a higher RMSE rather than if we used just the curb_weight at the default k value of 5. Using our top features up to five results in nearly identical RMSE, but all of these together is just a little bit higher than if we only used curb_weight."
   ]
  },
  {
   "cell_type": "code",
   "execution_count": 24,
   "metadata": {},
   "outputs": [
    {
     "data": {
      "text/html": [
       "<div>\n",
       "<style scoped>\n",
       "    .dataframe tbody tr th:only-of-type {\n",
       "        vertical-align: middle;\n",
       "    }\n",
       "\n",
       "    .dataframe tbody tr th {\n",
       "        vertical-align: top;\n",
       "    }\n",
       "\n",
       "    .dataframe thead th {\n",
       "        text-align: right;\n",
       "    }\n",
       "</style>\n",
       "<table border=\"1\" class=\"dataframe\">\n",
       "  <thead>\n",
       "    <tr style=\"text-align: right;\">\n",
       "      <th></th>\n",
       "      <th>model</th>\n",
       "      <th>k</th>\n",
       "      <th>rmse</th>\n",
       "    </tr>\n",
       "  </thead>\n",
       "  <tbody>\n",
       "    <tr>\n",
       "      <th>0</th>\n",
       "      <td>curb_weight_only</td>\n",
       "      <td>1</td>\n",
       "      <td>4023.670383</td>\n",
       "    </tr>\n",
       "    <tr>\n",
       "      <th>1</th>\n",
       "      <td>rmse_best_five</td>\n",
       "      <td>1</td>\n",
       "      <td>4027.091708</td>\n",
       "    </tr>\n",
       "    <tr>\n",
       "      <th>2</th>\n",
       "      <td>rmse_best_four</td>\n",
       "      <td>1</td>\n",
       "      <td>4029.391347</td>\n",
       "    </tr>\n",
       "    <tr>\n",
       "      <th>3</th>\n",
       "      <td>rmse_best_three</td>\n",
       "      <td>1</td>\n",
       "      <td>4029.391347</td>\n",
       "    </tr>\n",
       "    <tr>\n",
       "      <th>4</th>\n",
       "      <td>curb_weight_only</td>\n",
       "      <td>2</td>\n",
       "      <td>3223.248671</td>\n",
       "    </tr>\n",
       "  </tbody>\n",
       "</table>\n",
       "</div>"
      ],
      "text/plain": [
       "              model  k         rmse\n",
       "0  curb_weight_only  1  4023.670383\n",
       "1    rmse_best_five  1  4027.091708\n",
       "2    rmse_best_four  1  4029.391347\n",
       "3   rmse_best_three  1  4029.391347\n",
       "4  curb_weight_only  2  3223.248671"
      ]
     },
     "execution_count": 24,
     "metadata": {},
     "output_type": "execute_result"
    }
   ],
   "source": [
    "# naming the models we will test with hyperparameter optimisation\n",
    "models = {\n",
    "    'curb_weight_only' : ['curb_weight'],\n",
    "    'rmse_best_five' : ['curb_weight', 'wheel_base', 'highway_mpg', 'width', 'length'],\n",
    "    'rmse_best_four' : ['curb_weight', 'wheel_base', 'highway_mpg', 'width'],\n",
    "    'rmse_best_three' : ['curb_weight', 'wheel_base', 'highway_mpg']\n",
    "}\n",
    "\n",
    "k_values = []\n",
    "model_names = []\n",
    "rmses = []\n",
    "for k in range(1,26):\n",
    "    for model, cols in models.items():\n",
    "        k_values.append(k)\n",
    "        model_names.append(model)\n",
    "        rmse = knn_train_test(cols, ['price'], cars, k)\n",
    "        rmses.append(rmse)\n",
    "        \n",
    "results_df = pd.DataFrame()\n",
    "results_df['model'] = model_names\n",
    "results_df['k'] = k_values\n",
    "results_df['rmse'] = rmses\n",
    "\n",
    "results_df.head()"
   ]
  },
  {
   "cell_type": "code",
   "execution_count": 32,
   "metadata": {},
   "outputs": [
    {
     "data": {
      "application/vnd.vegalite.v2+json": {
       "$schema": "https://vega.github.io/schema/vega-lite/v2.6.0.json",
       "config": {
        "view": {
         "height": 300,
         "width": 400
        }
       },
       "data": {
        "name": "data-bebd8de6e28c1e13b423ac967f145c09"
       },
       "datasets": {
        "data-bebd8de6e28c1e13b423ac967f145c09": [
         {
          "k": 1,
          "model": "curb_weight_only",
          "rmse": 4023.6703828718373
         },
         {
          "k": 1,
          "model": "rmse_best_five",
          "rmse": 4027.0917080444046
         },
         {
          "k": 1,
          "model": "rmse_best_four",
          "rmse": 4029.3913467172683
         },
         {
          "k": 1,
          "model": "rmse_best_three",
          "rmse": 4029.3913467172683
         },
         {
          "k": 2,
          "model": "curb_weight_only",
          "rmse": 3223.2486707900775
         },
         {
          "k": 2,
          "model": "rmse_best_five",
          "rmse": 3292.3176392170913
         },
         {
          "k": 2,
          "model": "rmse_best_four",
          "rmse": 3290.42823295844
         },
         {
          "k": 2,
          "model": "rmse_best_three",
          "rmse": 3290.42823295844
         },
         {
          "k": 3,
          "model": "curb_weight_only",
          "rmse": 2721.3200269150425
         },
         {
          "k": 3,
          "model": "rmse_best_five",
          "rmse": 2791.4223495081023
         },
         {
          "k": 3,
          "model": "rmse_best_four",
          "rmse": 2722.3363158630245
         },
         {
          "k": 3,
          "model": "rmse_best_three",
          "rmse": 2722.3363158630245
         },
         {
          "k": 4,
          "model": "curb_weight_only",
          "rmse": 2523.920768430043
         },
         {
          "k": 4,
          "model": "rmse_best_five",
          "rmse": 2510.911949932235
         },
         {
          "k": 4,
          "model": "rmse_best_four",
          "rmse": 2509.8514261306386
         },
         {
          "k": 4,
          "model": "rmse_best_three",
          "rmse": 2509.8514261306386
         },
         {
          "k": 5,
          "model": "curb_weight_only",
          "rmse": 2382.012942660052
         },
         {
          "k": 5,
          "model": "rmse_best_five",
          "rmse": 2435.0733485872656
         },
         {
          "k": 5,
          "model": "rmse_best_four",
          "rmse": 2436.106014318753
         },
         {
          "k": 5,
          "model": "rmse_best_three",
          "rmse": 2436.106014318753
         },
         {
          "k": 6,
          "model": "curb_weight_only",
          "rmse": 2312.6222048791283
         },
         {
          "k": 6,
          "model": "rmse_best_five",
          "rmse": 2313.021464628751
         },
         {
          "k": 6,
          "model": "rmse_best_four",
          "rmse": 2312.751192213147
         },
         {
          "k": 6,
          "model": "rmse_best_three",
          "rmse": 2312.751192213147
         },
         {
          "k": 7,
          "model": "curb_weight_only",
          "rmse": 2350.8330362417732
         },
         {
          "k": 7,
          "model": "rmse_best_five",
          "rmse": 2350.9781581290795
         },
         {
          "k": 7,
          "model": "rmse_best_four",
          "rmse": 2351.051411776511
         },
         {
          "k": 7,
          "model": "rmse_best_three",
          "rmse": 2351.051411776511
         },
         {
          "k": 8,
          "model": "curb_weight_only",
          "rmse": 2651.0191878549276
         },
         {
          "k": 8,
          "model": "rmse_best_five",
          "rmse": 2590.4114608162395
         },
         {
          "k": 8,
          "model": "rmse_best_four",
          "rmse": 2650.505658566635
         },
         {
          "k": 8,
          "model": "rmse_best_three",
          "rmse": 2650.505658566635
         },
         {
          "k": 9,
          "model": "curb_weight_only",
          "rmse": 2580.379796370782
         },
         {
          "k": 9,
          "model": "rmse_best_five",
          "rmse": 2581.041045827616
         },
         {
          "k": 9,
          "model": "rmse_best_four",
          "rmse": 2581.041045827616
         },
         {
          "k": 9,
          "model": "rmse_best_three",
          "rmse": 2581.041045827616
         },
         {
          "k": 10,
          "model": "curb_weight_only",
          "rmse": 2483.0954006541915
         },
         {
          "k": 10,
          "model": "rmse_best_five",
          "rmse": 2496.1681215414956
         },
         {
          "k": 10,
          "model": "rmse_best_four",
          "rmse": 2496.1681215414956
         },
         {
          "k": 10,
          "model": "rmse_best_three",
          "rmse": 2496.1681215414956
         },
         {
          "k": 11,
          "model": "curb_weight_only",
          "rmse": 2377.3280485045834
         },
         {
          "k": 11,
          "model": "rmse_best_five",
          "rmse": 2378.102148112966
         },
         {
          "k": 11,
          "model": "rmse_best_four",
          "rmse": 2378.102148112966
         },
         {
          "k": 11,
          "model": "rmse_best_three",
          "rmse": 2378.102148112966
         },
         {
          "k": 12,
          "model": "curb_weight_only",
          "rmse": 2366.687345346867
         },
         {
          "k": 12,
          "model": "rmse_best_five",
          "rmse": 2365.7647249210045
         },
         {
          "k": 12,
          "model": "rmse_best_four",
          "rmse": 2363.5533212214496
         },
         {
          "k": 12,
          "model": "rmse_best_three",
          "rmse": 2363.5533212214496
         },
         {
          "k": 13,
          "model": "curb_weight_only",
          "rmse": 2308.7883330898553
         },
         {
          "k": 13,
          "model": "rmse_best_five",
          "rmse": 2311.4465969202492
         },
         {
          "k": 13,
          "model": "rmse_best_four",
          "rmse": 2311.4465969202492
         },
         {
          "k": 13,
          "model": "rmse_best_three",
          "rmse": 2311.4465969202492
         },
         {
          "k": 14,
          "model": "curb_weight_only",
          "rmse": 2361.258203575814
         },
         {
          "k": 14,
          "model": "rmse_best_five",
          "rmse": 2368.3869638879296
         },
         {
          "k": 14,
          "model": "rmse_best_four",
          "rmse": 2368.430976255317
         },
         {
          "k": 14,
          "model": "rmse_best_three",
          "rmse": 2368.430976255317
         },
         {
          "k": 15,
          "model": "curb_weight_only",
          "rmse": 2336.437277613551
         },
         {
          "k": 15,
          "model": "rmse_best_five",
          "rmse": 2336.437277613551
         },
         {
          "k": 15,
          "model": "rmse_best_four",
          "rmse": 2336.437277613551
         },
         {
          "k": 15,
          "model": "rmse_best_three",
          "rmse": 2336.437277613551
         },
         {
          "k": 16,
          "model": "curb_weight_only",
          "rmse": 2263.8363362065083
         },
         {
          "k": 16,
          "model": "rmse_best_five",
          "rmse": 2263.1812134001775
         },
         {
          "k": 16,
          "model": "rmse_best_four",
          "rmse": 2262.8154415807426
         },
         {
          "k": 16,
          "model": "rmse_best_three",
          "rmse": 2262.8154415807426
         },
         {
          "k": 17,
          "model": "curb_weight_only",
          "rmse": 2231.542523108051
         },
         {
          "k": 17,
          "model": "rmse_best_five",
          "rmse": 2232.1747062653176
         },
         {
          "k": 17,
          "model": "rmse_best_four",
          "rmse": 2231.2638862351764
         },
         {
          "k": 17,
          "model": "rmse_best_three",
          "rmse": 2231.2638862351764
         },
         {
          "k": 18,
          "model": "curb_weight_only",
          "rmse": 2192.9286595121775
         },
         {
          "k": 18,
          "model": "rmse_best_five",
          "rmse": 2191.055384158652
         },
         {
          "k": 18,
          "model": "rmse_best_four",
          "rmse": 2189.4886306650988
         },
         {
          "k": 18,
          "model": "rmse_best_three",
          "rmse": 2189.4886306650988
         },
         {
          "k": 19,
          "model": "curb_weight_only",
          "rmse": 2144.3743369945146
         },
         {
          "k": 19,
          "model": "rmse_best_five",
          "rmse": 2142.8039572413
         },
         {
          "k": 19,
          "model": "rmse_best_four",
          "rmse": 2142.8039572413
         },
         {
          "k": 19,
          "model": "rmse_best_three",
          "rmse": 2142.8039572413
         },
         {
          "k": 20,
          "model": "curb_weight_only",
          "rmse": 2159.952348215696
         },
         {
          "k": 20,
          "model": "rmse_best_five",
          "rmse": 2155.893339111423
         },
         {
          "k": 20,
          "model": "rmse_best_four",
          "rmse": 2160.4292819512743
         },
         {
          "k": 20,
          "model": "rmse_best_three",
          "rmse": 2160.4292819512743
         },
         {
          "k": 21,
          "model": "curb_weight_only",
          "rmse": 2098.7136929611615
         },
         {
          "k": 21,
          "model": "rmse_best_five",
          "rmse": 2096.6842919129836
         },
         {
          "k": 21,
          "model": "rmse_best_four",
          "rmse": 2097.164942900874
         },
         {
          "k": 21,
          "model": "rmse_best_three",
          "rmse": 2097.164942900874
         },
         {
          "k": 22,
          "model": "curb_weight_only",
          "rmse": 2055.008286929562
         },
         {
          "k": 22,
          "model": "rmse_best_five",
          "rmse": 2053.9684330125388
         },
         {
          "k": 22,
          "model": "rmse_best_four",
          "rmse": 2053.789557095544
         },
         {
          "k": 22,
          "model": "rmse_best_three",
          "rmse": 2053.789557095544
         },
         {
          "k": 23,
          "model": "curb_weight_only",
          "rmse": 2026.039799355575
         },
         {
          "k": 23,
          "model": "rmse_best_five",
          "rmse": 2026.0564245926787
         },
         {
          "k": 23,
          "model": "rmse_best_four",
          "rmse": 2025.3585750347809
         },
         {
          "k": 23,
          "model": "rmse_best_three",
          "rmse": 2025.3585750347809
         },
         {
          "k": 24,
          "model": "curb_weight_only",
          "rmse": 1968.886081562399
         },
         {
          "k": 24,
          "model": "rmse_best_five",
          "rmse": 1985.620052552592
         },
         {
          "k": 24,
          "model": "rmse_best_four",
          "rmse": 1974.142392716075
         },
         {
          "k": 24,
          "model": "rmse_best_three",
          "rmse": 1974.142392716075
         },
         {
          "k": 25,
          "model": "curb_weight_only",
          "rmse": 1992.3377667554269
         },
         {
          "k": 25,
          "model": "rmse_best_five",
          "rmse": 1992.3287953648617
         },
         {
          "k": 25,
          "model": "rmse_best_four",
          "rmse": 1992.3377667554269
         },
         {
          "k": 25,
          "model": "rmse_best_three",
          "rmse": 1992.3377667554269
         }
        ]
       },
       "encoding": {
        "color": {
         "field": "model",
         "type": "nominal"
        },
        "row": {
         "field": "model",
         "type": "nominal"
        },
        "x": {
         "field": "k",
         "type": "quantitative"
        },
        "y": {
         "field": "rmse",
         "type": "quantitative"
        }
       },
       "height": 150,
       "mark": "area",
       "width": 200
      },
      "image/png": "[encoded data removed]",
      "text/plain": [
       "<VegaLite 2 object>\n",
       "\n",
       "If you see this message, it means the renderer has not been properly enabled\n",
       "for the frontend that you are using. For more information, see\n",
       "https://altair-viz.github.io/user_guide/troubleshooting.html\n"
      ]
     },
     "execution_count": 32,
     "metadata": {},
     "output_type": "execute_result"
    }
   ],
   "source": [
    "alt.Chart(results_df).mark_area().encode(\n",
    "    x='k',\n",
    "    y='rmse',\n",
    "    color='model',\n",
    "    row=alt.Column('model')\n",
    ").properties(height=150, width=200)"
   ]
  },
  {
   "cell_type": "code",
   "execution_count": 38,
   "metadata": {},
   "outputs": [
    {
     "name": "stdout",
     "output_type": "stream",
     "text": [
      "model\n",
      "curb_weight_only    2405.449658\n",
      "rmse_best_five      2411.533662\n",
      "rmse_best_four      2410.687821\n",
      "rmse_best_three     2410.687821\n",
      "Name: rmse, dtype: float64\n",
      "k\n",
      "24    1975.697730\n",
      "25    1992.335524\n",
      "23    2025.703344\n",
      "22    2054.138959\n",
      "21    2097.431968\n",
      "Name: rmse, dtype: float64\n"
     ]
    }
   ],
   "source": [
    "print(results_df.groupby('model')['rmse'].mean())\n",
    "print(results_df.groupby('k')['rmse'].mean().sort_values().head())"
   ]
  },
  {
   "cell_type": "markdown",
   "metadata": {},
   "source": [
    "We can see from the graphs and the average RMSE's for all the models that they all perform very similar. The curb_weight manages to perform slightly better. The k value that results in the lowest RMSE was 34. Generally speak, up to at least 25, increasing the k value will lower the RMSE.\n",
    "\n",
    "## Conclusion\n",
    "The RMSE's we were working with in this project feel very high. The prices of cars in this dataset range from about 5000 to 35,000. With a RMSE being of just over $2000, it feels like our predictions have too much error relative to the price ranges of the cars in this dataset. The dataset also only had about 200 rows, and we had to clear about 25 of these rows due to NaN values.\n",
    "\n",
    "This concludes this project. The main goal of this project was to get our hands dirty using the KNeightborsRegression and see what a workflow is like.\n",
    "\n",
    "A couple of ideas for revisions, should I find the time to revisit this project:\n",
    "- Use k-fold cross validation instead of test/train validation\n",
    "- Modify the knn_train_test function to perform the data cleaning as well\n",
    "- Find substitute values for NaN values instead of dropping the rows\n",
    "- Try a different target column (ie highway mpg)"
   ]
  }
 ],
 "metadata": {
  "kernelspec": {
   "display_name": "Python [conda env:ml-sklearn]",
   "language": "python",
   "name": "conda-env-ml-sklearn-py"
  },
  "language_info": {
   "codemirror_mode": {
    "name": "ipython",
    "version": 3
   },
   "file_extension": ".py",
   "mimetype": "text/x-python",
   "name": "python",
   "nbconvert_exporter": "python",
   "pygments_lexer": "ipython3",
   "version": "3.6.8"
  }
 },
 "nbformat": 4,
 "nbformat_minor": 2
}
