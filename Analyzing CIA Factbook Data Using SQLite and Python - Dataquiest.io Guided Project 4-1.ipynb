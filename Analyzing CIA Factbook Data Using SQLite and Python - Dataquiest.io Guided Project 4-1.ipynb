{
 "cells": [
  {
   "cell_type": "code",
   "execution_count": 39,
   "metadata": {},
   "outputs": [
    {
     "name": "stdout",
     "output_type": "stream",
     "text": [
      "Information Schema     type             name         tbl_name  rootpage  \\\n",
      "0  table            facts            facts         2   \n",
      "1  table  sqlite_sequence  sqlite_sequence         3   \n",
      "\n",
      "                                                 sql  \n",
      "0  CREATE TABLE \"facts\" (\"id\" INTEGER PRIMARY KEY...  \n",
      "1             CREATE TABLE sqlite_sequence(name,seq)  \n",
      "   id code         name     area  area_land  area_water  population  \\\n",
      "0   1   af  Afghanistan   652230     652230           0    32564342   \n",
      "1   2   al      Albania    28748      27398        1350     3029278   \n",
      "2   3   ag      Algeria  2381741    2381741           0    39542166   \n",
      "3   4   an      Andorra      468        468           0       85580   \n",
      "4   5   ao       Angola  1246700    1246700           0    19625353   \n",
      "\n",
      "   population_growth  birth_rate  death_rate  migration_rate  \\\n",
      "0               2.32       38.57       13.89            1.51   \n",
      "1               0.30       12.92        6.58            3.30   \n",
      "2               1.84       23.67        4.31            0.92   \n",
      "3               0.12        8.13        6.96            0.00   \n",
      "4               2.78       38.78       11.49            0.46   \n",
      "\n",
      "                   created_at                  updated_at  \n",
      "0  2015-11-01 13:19:49.461734  2015-11-01 13:19:49.461734  \n",
      "1  2015-11-01 13:19:54.431082  2015-11-01 13:19:54.431082  \n",
      "2  2015-11-01 13:19:59.961286  2015-11-01 13:19:59.961286  \n",
      "3  2015-11-01 13:20:03.659945  2015-11-01 13:20:03.659945  \n",
      "4  2015-11-01 13:20:08.625072  2015-11-01 13:20:08.625072  \n"
     ]
    }
   ],
   "source": [
    "import sqlite3\n",
    "import pandas as pd\n",
    "\n",
    "conn = sqlite3.connect(\"data/factbook.db\")\n",
    "\n",
    "query_info_schema = \"SELECT * FROM sqlite_master WHERE type='table';\"\n",
    "info_schema = pd.read_sql_query(query_info_schema, conn)\n",
    "\n",
    "query_facts_5 = \"SELECT * FROM facts LIMIT 5;\"\n",
    "facts_5 = pd.read_sql_query(query_facts_5, conn)\n",
    "\n",
    "print(\"Information Schema\", info_schema)\n",
    "print(facts_5)"
   ]
  },
  {
   "cell_type": "code",
   "execution_count": 40,
   "metadata": {},
   "outputs": [
    {
     "name": "stdout",
     "output_type": "stream",
     "text": [
      "[(0, 7256490011, 0.0, 4.02)]\n"
     ]
    }
   ],
   "source": [
    "# Quick stats from the factbook\n",
    "\n",
    "query_summary_stats = \"SELECT min(population), max(population), min(population_growth), max(population_growth) FROM facts;\"\n",
    "summary_stats = conn.execute(query_summary_stats)\n",
    "\n",
    "print(summary_stats.fetchall())"
   ]
  },
  {
   "cell_type": "code",
   "execution_count": 41,
   "metadata": {},
   "outputs": [
    {
     "name": "stdout",
     "output_type": "stream",
     "text": [
      "[('Antarctica',)]\n",
      "[('World',)]\n"
     ]
    }
   ],
   "source": [
    "# The results look a bit odd... why is there is a country with zero pop and another with 7.2 billion pop?\n",
    "query_zero_pop = \"SELECT name FROM facts WHERE population = 0;\"\n",
    "query_high_pop = \"SELECT name FROM facts WHERE population in (SELECT max(population) from facts);\"\n",
    "\n",
    "r_zero_pop = conn.execute(query_zero_pop)\n",
    "r_high_pop = conn.execute(query_high_pop)\n",
    "\n",
    "print(r_zero_pop.fetchall())\n",
    "print(r_high_pop.fetchall())"
   ]
  },
  {
   "cell_type": "markdown",
   "metadata": {},
   "source": [
    "The country with zero population is Antarctica, which is technically not a country. Regardless, Antarctica has no permanent residents so this number of zero is not surprising.\n",
    "\n",
    "The 7.2 billion figure is the total world population, and in this dataset it is aptly named \"World\"."
   ]
  },
  {
   "cell_type": "code",
   "execution_count": 42,
   "metadata": {},
   "outputs": [
    {
     "name": "stdout",
     "output_type": "stream",
     "text": [
      "      population  population_growth  birth_rate  death_rate\n",
      "0     32564342.0               2.32       38.57       13.89\n",
      "1      3029278.0               0.30       12.92        6.58\n",
      "2     39542166.0               1.84       23.67        4.31\n",
      "3        85580.0               0.12        8.13        6.96\n",
      "4     19625353.0               2.78       38.78       11.49\n",
      "5        92436.0               1.24       15.85        5.69\n",
      "6     43431886.0               0.93       16.64        7.33\n",
      "7      3056382.0               0.15       13.61        9.34\n",
      "8     22751014.0               1.07       12.15        7.14\n",
      "9      8665550.0               0.55        9.41        9.42\n",
      "10     9780780.0               0.96       16.64        7.07\n",
      "11      324597.0               0.85       15.50        7.05\n",
      "12     1346613.0               2.41       13.66        2.69\n",
      "13   168957745.0               1.60       21.14        5.61\n",
      "14      290604.0               0.31       11.87        8.44\n",
      "15     9589689.0               0.20       10.70       13.36\n",
      "16    11323973.0               0.76       11.41        9.63\n",
      "17      347369.0               1.87       24.68        5.97\n",
      "18    10448647.0               2.78       36.02        8.21\n",
      "19      741919.0               1.11       17.78        6.69\n",
      "20    10800882.0               1.56       22.76        6.52\n",
      "21     3867055.0               0.13        8.87        9.75\n",
      "22     2182719.0               1.21       20.96       13.39\n",
      "23   204259812.0               0.77       14.46        6.58\n",
      "24      429646.0               1.62       17.32        3.52\n",
      "25     7186893.0               0.58        8.92       14.44\n",
      "26    18931686.0               3.03       42.03       11.72\n",
      "27    56320206.0               1.01       18.39        7.96\n",
      "28    10742276.0               3.28       42.01        9.27\n",
      "29    15708756.0               1.58       23.83        7.68\n",
      "..           ...                ...         ...         ...\n",
      "229      56092.0               2.10       12.11        5.53\n",
      "230      15700.0                NaN         NaN         NaN\n",
      "231       3361.0               0.01       10.90        4.90\n",
      "232      29258.0               0.24       14.08        8.37\n",
      "233      66080.0               0.34        9.84        8.78\n",
      "234      97294.0               0.80       11.91        7.68\n",
      "235      87545.0               0.76       11.10       10.06\n",
      "236       5241.0               0.50       11.26        6.30\n",
      "237         48.0               0.00         NaN         NaN\n",
      "238       7795.0               0.24        9.88        7.44\n",
      "239          NaN                NaN         NaN         NaN\n",
      "240      50280.0               2.30       16.13        3.10\n",
      "241      54343.0               0.30       22.89        4.75\n",
      "242     161785.0               0.54       16.82        5.12\n",
      "243          NaN                NaN         NaN         NaN\n",
      "244      52344.0               2.18       18.32        3.71\n",
      "245    3598357.0               0.60       10.86        8.67\n",
      "246     103574.0               0.59       10.31        8.54\n",
      "247          NaN                NaN         NaN         NaN\n",
      "248          NaN                NaN         NaN         NaN\n",
      "249    1869055.0               2.81       31.11        3.04\n",
      "250          NaN                NaN         NaN         NaN\n",
      "251          NaN                NaN         NaN         NaN\n",
      "252    2785366.0               1.95       22.99        3.50\n",
      "253     570866.0               2.82       30.24        8.34\n",
      "254          NaN                NaN         NaN         NaN\n",
      "255          NaN                NaN         NaN         NaN\n",
      "256          NaN                NaN         NaN         NaN\n",
      "257          NaN                NaN         NaN         NaN\n",
      "258          NaN                NaN         NaN         NaN\n",
      "\n",
      "[259 rows x 4 columns]\n"
     ]
    }
   ],
   "source": [
    "query_all_countries = \"SELECT population, population_growth, birth_rate, death_rate FROM facts WHERE name not in ('Antarctica', 'World');\"\n",
    "\n",
    "all_countries = pd.read_sql_query(query_all_countries, conn)\n",
    "\n",
    "print(all_countries)"
   ]
  },
  {
   "cell_type": "code",
   "execution_count": 68,
   "metadata": {},
   "outputs": [
    {
     "name": "stderr",
     "output_type": "stream",
     "text": [
      "/home/tsuzukuri/miniconda3/envs/shinagawa/lib/python3.7/site-packages/IPython/core/interactiveshell.py:3267: UserWarning: To output multiple subplots, the figure containing the passed axes is being cleared\n",
      "  exec(code_obj, self.user_global_ns, self.user_ns)\n"
     ]
    },
    {
     "data": {
      "text/plain": [
       "array([[<matplotlib.axes._subplots.AxesSubplot object at 0x7feebf8bc7f0>,\n",
       "        <matplotlib.axes._subplots.AxesSubplot object at 0x7feebf86cf98>],\n",
       "       [<matplotlib.axes._subplots.AxesSubplot object at 0x7feebf899940>,\n",
       "        <matplotlib.axes._subplots.AxesSubplot object at 0x7feebf8452e8>]],\n",
       "      dtype=object)"
      ]
     },
     "execution_count": 68,
     "metadata": {},
     "output_type": "execute_result"
    },
    {
     "data": {
      "image/png": "[encoded data removed]",
      "text/plain": [
       "<Figure size 720x720 with 4 Axes>"
      ]
     },
     "metadata": {
      "needs_background": "light"
     },
     "output_type": "display_data"
    }
   ],
   "source": [
    "import matplotlib.pyplot as plt\n",
    "import seaborn as sns\n",
    "%matplotlib inline\n",
    "\n",
    "fig = plt.figure(figsize=(10,10))\n",
    "ax = fig.add_subplot(111)\n",
    "#sns.set(color_codes=True)\n",
    "\n",
    "all_countries.hist(ax=ax)"
   ]
  },
  {
   "cell_type": "code",
   "execution_count": 95,
   "metadata": {},
   "outputs": [
    {
     "data": {
      "text/plain": [
       "<matplotlib.axes._subplots.AxesSubplot at 0x7feebe1dc908>"
      ]
     },
     "execution_count": 95,
     "metadata": {},
     "output_type": "execute_result"
    },
    {
     "data": {
      "image/png": "[encoded data removed]",
      "text/plain": [
       "<Figure size 720x720 with 4 Axes>"
      ]
     },
     "metadata": {
      "needs_background": "light"
     },
     "output_type": "display_data"
    }
   ],
   "source": [
    "# plotting using seaborn\n",
    "\n",
    "sns_fig = plt.figure(figsize=(10,10))\n",
    "sns_ax1 = sns_fig.add_subplot(111)\n",
    "sns_ax2 = sns_fig.add_subplot(121)\n",
    "sns_ax3 = sns_fig.add_subplot(211)\n",
    "sns_ax4 = sns_fig.add_subplot(221)\n",
    "cols = [\"birth_rate\", \"death_rate\", \"population\", \"population_growth\"]\n",
    "\n",
    "sns.distplot(all_countries[\"birth_rate\"].dropna(), bins=10, kde=False, rug=True, ax=sns_ax1)\n",
    "sns.distplot(all_countries[\"death_rate\"].dropna(), bins=10, kde=False, rug=True, ax=sns_ax2)\n",
    "sns.distplot(all_countries[\"population\"].dropna(), bins=10, kde=False, rug=True, ax=sns_ax3)\n",
    "sns.distplot(all_countries[\"population_growth\"].dropna(), bins=10, kde=False, rug=True, ax=sns_ax4)"
   ]
  },
  {
   "cell_type": "markdown",
   "metadata": {},
   "source": []
  }
 ],
 "metadata": {
  "kernelspec": {
   "display_name": "Python [conda env:shinagawa]",
   "language": "python",
   "name": "conda-env-shinagawa-py"
  },
  "language_info": {
   "codemirror_mode": {
    "name": "ipython",
    "version": 3
   },
   "file_extension": ".py",
   "mimetype": "text/x-python",
   "name": "python",
   "nbconvert_exporter": "python",
   "pygments_lexer": "ipython3",
   "version": "3.7.0"
  }
 },
 "nbformat": 4,
 "nbformat_minor": 2
}
