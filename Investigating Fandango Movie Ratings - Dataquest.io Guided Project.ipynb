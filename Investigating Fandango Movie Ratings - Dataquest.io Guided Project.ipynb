{
 "cells": [
  {
   "cell_type": "markdown",
   "metadata": {},
   "source": [
    "# Investigating Fandango Movie Ratings\n",
    "### A Dataquest.io Guided \n",
    "\n",
    "This is a guided project that is part of the cirriculum in Dataquest.io. In 2015, a data journalist named Walt Hickey published an article with findings that Fandango had, on average higher ratings and that there could be bias in the way how their ratings are handled.\n",
    "\n",
    "In this project, we investigate ratings several years later to see if there was any change since Hickey's analysis was done."
   ]
  },
  {
   "cell_type": "code",
   "execution_count": 3,
   "metadata": {},
   "outputs": [
    {
     "data": {
      "text/plain": [
       "<bound method Series.unique of 0       74\n",
       "1       85\n",
       "2       80\n",
       "3       18\n",
       "4       14\n",
       "5       63\n",
       "6       42\n",
       "7       86\n",
       "8       99\n",
       "9       89\n",
       "10      84\n",
       "11      82\n",
       "12      99\n",
       "13      51\n",
       "14      90\n",
       "15       9\n",
       "16      46\n",
       "17      59\n",
       "18      50\n",
       "19      17\n",
       "20      79\n",
       "21      59\n",
       "22      68\n",
       "23      60\n",
       "24      85\n",
       "25      99\n",
       "26      92\n",
       "27      88\n",
       "28      96\n",
       "29      92\n",
       "      ... \n",
       "116     89\n",
       "117     81\n",
       "118     80\n",
       "119     99\n",
       "120     84\n",
       "121     84\n",
       "122     95\n",
       "123     62\n",
       "124     45\n",
       "125     27\n",
       "126     52\n",
       "127     60\n",
       "128     92\n",
       "129     97\n",
       "130     71\n",
       "131     54\n",
       "132     35\n",
       "133      5\n",
       "134     31\n",
       "135     14\n",
       "136     22\n",
       "137     77\n",
       "138     52\n",
       "139     18\n",
       "140     98\n",
       "141     87\n",
       "142     97\n",
       "143     97\n",
       "144    100\n",
       "145     87\n",
       "Name: RottenTomatoes, Length: 146, dtype: int64>"
      ]
     },
     "execution_count": 3,
     "metadata": {},
     "output_type": "execute_result"
    }
   ],
   "source": [
    "import pandas as pd\n",
    "\n",
    "fandango = pd.read_csv(\"data/fandango_score_comparison.csv\")\n",
    "movie_ratings = pd.read_csv(\"data/movie_ratings_16_17.csv\")\n",
    "\n",
    "# take just the relevant data\n",
    "#fandango = fandango.loc[:,[\"FILM\", \"Fanfango_Stars\", \"Fandango_Ratingvalue\", \"Fandango_votes\", \"Fandango_Difference\"]]\n",
    "#movie_ratings = movie_ratings.loc[:,[\"movie\", \"year\", \"fandango\"]]\n",
    "\n",
    "fandango[\"RottenTomatoes\"].unique"
   ]
  },
  {
   "cell_type": "markdown",
   "metadata": {},
   "source": [
    "#### Population of Interest\n",
    "The population of interest in this project would be Fandango movie ratings, since we are only interested in comparing Fandango movie ratings between years.\n",
    "\n",
    "#### Sampling\n",
    "The conditions for a movie to be included in `fandango_score_comparison` basically dictates that it has to have a rating on all of the ratings sites, and at least 30 reviews in Fandango. This sample does not appear to be taken at random, instead it has every movie that fulfills certain criteria.\n",
    "\n",
    "For `movie_ratings_16_17.csv`, the author took data for the 214 of the most popular movies. It is unclear from reading at the description if it has the same movies in the previous dataset."
   ]
  },
  {
   "cell_type": "markdown",
   "metadata": {},
   "source": [
    "### Adjusting the Goals\n",
    "In light that sample population is not a representative sample of our goals, we are presented with two choices.\n",
    "- Collect new data\n",
    "- Change the goal slightly by placing limitations on it\n",
    "For practical purposes, it is easier to pursue the second one. For evem more practicality, even though the project guide says we are encouraged to pursue our own solutions, for the purposes of this guided project we will realign our goal to match what Dataquest.io has set. This will help give us a rough baseline to compare the results of our analysis.\n",
    "\n",
    "The goal as stated by Dataquest.io is:\n",
    ">Instead of trying to determine whether there has been any change in Fandango's rating system after Hickey's analysis, our new goal is to determine whether there's any difference between Fandango's ratings for popular movies in 2015 and Fandango's ratings for popular movies in 2016. This new goal should also be a fairly good proxy for our initial goal.\n",
    "\n",
    "### Isolating the Data Needed\n",
    "With this new goal, the data we want now are the data for Fandango's ratings in 2015 and Fandango's ratings for movies in 2016. All of them must be popular. Whatever that means. `movie_Ratings_16_17.csv` already only includes popular movies. In Hickey's data what would that mean? The data already includes a minimum of 30 fan ratings on Fandango. We'll go with that for now.\n"
   ]
  },
  {
   "cell_type": "code",
   "execution_count": 12,
   "metadata": {},
   "outputs": [
    {
     "data": {
      "text/html": [
       "<div>\n",
       "<style scoped>\n",
       "    .dataframe tbody tr th:only-of-type {\n",
       "        vertical-align: middle;\n",
       "    }\n",
       "\n",
       "    .dataframe tbody tr th {\n",
       "        vertical-align: top;\n",
       "    }\n",
       "\n",
       "    .dataframe thead th {\n",
       "        text-align: right;\n",
       "    }\n",
       "</style>\n",
       "<table border=\"1\" class=\"dataframe\">\n",
       "  <thead>\n",
       "    <tr style=\"text-align: right;\">\n",
       "      <th></th>\n",
       "      <th>Fanfango_Stars</th>\n",
       "      <th>Fandango_Ratingvalue</th>\n",
       "      <th>Fandango_votes</th>\n",
       "      <th>Fandango_Difference</th>\n",
       "    </tr>\n",
       "  </thead>\n",
       "  <tbody>\n",
       "    <tr>\n",
       "      <th>count</th>\n",
       "      <td>0.0</td>\n",
       "      <td>146.000000</td>\n",
       "      <td>146.000000</td>\n",
       "      <td>146.000000</td>\n",
       "    </tr>\n",
       "    <tr>\n",
       "      <th>mean</th>\n",
       "      <td>NaN</td>\n",
       "      <td>3.845205</td>\n",
       "      <td>3848.787671</td>\n",
       "      <td>0.243836</td>\n",
       "    </tr>\n",
       "    <tr>\n",
       "      <th>std</th>\n",
       "      <td>NaN</td>\n",
       "      <td>0.502831</td>\n",
       "      <td>6357.778617</td>\n",
       "      <td>0.152665</td>\n",
       "    </tr>\n",
       "    <tr>\n",
       "      <th>min</th>\n",
       "      <td>NaN</td>\n",
       "      <td>2.700000</td>\n",
       "      <td>35.000000</td>\n",
       "      <td>0.000000</td>\n",
       "    </tr>\n",
       "    <tr>\n",
       "      <th>25%</th>\n",
       "      <td>NaN</td>\n",
       "      <td>3.500000</td>\n",
       "      <td>222.250000</td>\n",
       "      <td>0.100000</td>\n",
       "    </tr>\n",
       "    <tr>\n",
       "      <th>50%</th>\n",
       "      <td>NaN</td>\n",
       "      <td>3.900000</td>\n",
       "      <td>1446.000000</td>\n",
       "      <td>0.200000</td>\n",
       "    </tr>\n",
       "    <tr>\n",
       "      <th>75%</th>\n",
       "      <td>NaN</td>\n",
       "      <td>4.200000</td>\n",
       "      <td>4439.500000</td>\n",
       "      <td>0.400000</td>\n",
       "    </tr>\n",
       "    <tr>\n",
       "      <th>max</th>\n",
       "      <td>NaN</td>\n",
       "      <td>4.800000</td>\n",
       "      <td>34846.000000</td>\n",
       "      <td>0.500000</td>\n",
       "    </tr>\n",
       "  </tbody>\n",
       "</table>\n",
       "</div>"
      ],
      "text/plain": [
       "       Fanfango_Stars  Fandango_Ratingvalue  Fandango_votes  \\\n",
       "count             0.0            146.000000      146.000000   \n",
       "mean              NaN              3.845205     3848.787671   \n",
       "std               NaN              0.502831     6357.778617   \n",
       "min               NaN              2.700000       35.000000   \n",
       "25%               NaN              3.500000      222.250000   \n",
       "50%               NaN              3.900000     1446.000000   \n",
       "75%               NaN              4.200000     4439.500000   \n",
       "max               NaN              4.800000    34846.000000   \n",
       "\n",
       "       Fandango_Difference  \n",
       "count           146.000000  \n",
       "mean              0.243836  \n",
       "std               0.152665  \n",
       "min               0.000000  \n",
       "25%               0.100000  \n",
       "50%               0.200000  \n",
       "75%               0.400000  \n",
       "max               0.500000  "
      ]
     },
     "execution_count": 12,
     "metadata": {},
     "output_type": "execute_result"
    }
   ],
   "source": [
    "fandango.describe()"
   ]
  },
  {
   "cell_type": "code",
   "execution_count": 14,
   "metadata": {},
   "outputs": [
    {
     "data": {
      "text/plain": [
       "Index(['movie', 'year', 'fandango'], dtype='object')"
      ]
     },
     "execution_count": 14,
     "metadata": {},
     "output_type": "execute_result"
    }
   ],
   "source": [
    "movie_ratings.describe()\n",
    "movie_ratings.columns"
   ]
  },
  {
   "cell_type": "markdown",
   "metadata": {},
   "source": [
    "A quick analysis of the data shows that the minimum votes in Fandango is 35, so the popularity criteria is met. `movie_ratings_16_17.csv` only has columns for the movie title, year, scores, and normalized scores for each of the sampled sites. One potential method is to join the datasets together using the movie name. However this can be unreliable as we don't have any way to guarantee that the movies.\n",
    "\n",
    "While I can proceed with this, the solutions notebook outlines a method by \"sample randomly 10 movies from it and then check the number of fan ratings ourselves on Fandango's website\". This is a good chance to reinforce what was learned from the lesson that accompanies this guided project.\n",
    "\n",
    "We'll begin by taking the data we need from the set (movies released in 2015 and 2016)."
   ]
  },
  {
   "cell_type": "code",
   "execution_count": 23,
   "metadata": {},
   "outputs": [],
   "source": [
    "movie_ratings_16 = movie_ratings[movie_ratings[\"year\"] == 2016]"
   ]
  },
  {
   "cell_type": "code",
   "execution_count": 27,
   "metadata": {},
   "outputs": [
    {
     "data": {
      "text/html": [
       "<div>\n",
       "<style scoped>\n",
       "    .dataframe tbody tr th:only-of-type {\n",
       "        vertical-align: middle;\n",
       "    }\n",
       "\n",
       "    .dataframe tbody tr th {\n",
       "        vertical-align: top;\n",
       "    }\n",
       "\n",
       "    .dataframe thead th {\n",
       "        text-align: right;\n",
       "    }\n",
       "</style>\n",
       "<table border=\"1\" class=\"dataframe\">\n",
       "  <thead>\n",
       "    <tr style=\"text-align: right;\">\n",
       "      <th></th>\n",
       "      <th>movie</th>\n",
       "      <th>year</th>\n",
       "      <th>fandango</th>\n",
       "    </tr>\n",
       "  </thead>\n",
       "  <tbody>\n",
       "    <tr>\n",
       "      <th>36</th>\n",
       "      <td>Collide</td>\n",
       "      <td>2016</td>\n",
       "      <td>3.5</td>\n",
       "    </tr>\n",
       "    <tr>\n",
       "      <th>75</th>\n",
       "      <td>Ice Age: Collision Course</td>\n",
       "      <td>2016</td>\n",
       "      <td>4.0</td>\n",
       "    </tr>\n",
       "    <tr>\n",
       "      <th>125</th>\n",
       "      <td>Now You See Me 2</td>\n",
       "      <td>2016</td>\n",
       "      <td>4.0</td>\n",
       "    </tr>\n",
       "    <tr>\n",
       "      <th>171</th>\n",
       "      <td>The Disappointments Room</td>\n",
       "      <td>2016</td>\n",
       "      <td>2.5</td>\n",
       "    </tr>\n",
       "    <tr>\n",
       "      <th>92</th>\n",
       "      <td>Kubo and the Two Strings</td>\n",
       "      <td>2016</td>\n",
       "      <td>4.5</td>\n",
       "    </tr>\n",
       "    <tr>\n",
       "      <th>134</th>\n",
       "      <td>Pride and Prejudice and Zombies</td>\n",
       "      <td>2016</td>\n",
       "      <td>4.0</td>\n",
       "    </tr>\n",
       "    <tr>\n",
       "      <th>40</th>\n",
       "      <td>Deadpool</td>\n",
       "      <td>2016</td>\n",
       "      <td>4.5</td>\n",
       "    </tr>\n",
       "    <tr>\n",
       "      <th>115</th>\n",
       "      <td>Money Monster</td>\n",
       "      <td>2016</td>\n",
       "      <td>4.0</td>\n",
       "    </tr>\n",
       "    <tr>\n",
       "      <th>204</th>\n",
       "      <td>War Dogs</td>\n",
       "      <td>2016</td>\n",
       "      <td>4.0</td>\n",
       "    </tr>\n",
       "    <tr>\n",
       "      <th>111</th>\n",
       "      <td>Miracles from Heaven</td>\n",
       "      <td>2016</td>\n",
       "      <td>4.5</td>\n",
       "    </tr>\n",
       "  </tbody>\n",
       "</table>\n",
       "</div>"
      ],
      "text/plain": [
       "                               movie  year  fandango\n",
       "36                           Collide  2016       3.5\n",
       "75         Ice Age: Collision Course  2016       4.0\n",
       "125                 Now You See Me 2  2016       4.0\n",
       "171         The Disappointments Room  2016       2.5\n",
       "92          Kubo and the Two Strings  2016       4.5\n",
       "134  Pride and Prejudice and Zombies  2016       4.0\n",
       "40                          Deadpool  2016       4.5\n",
       "115                    Money Monster  2016       4.0\n",
       "204                         War Dogs  2016       4.0\n",
       "111             Miracles from Heaven  2016       4.5"
      ]
     },
     "execution_count": 27,
     "metadata": {},
     "output_type": "execute_result"
    }
   ],
   "source": [
    "movie_ratings_16.sample(10, random_state = 1)"
   ]
  },
  {
   "cell_type": "markdown",
   "metadata": {},
   "source": [
    "Taking one random sample suggests that all of these are popular movies. Looking at some of these individually, movies like _Collide_ and _The Disappointments Room_ have 335 and 383 ratings respectively. While they fulfill our criteria of being popular, the number of ratings is very small relative to the traffic Fandango gets and the number of ratings the other movies in this sample receive."
   ]
  },
  {
   "cell_type": "markdown",
   "metadata": {},
   "source": [
    "At a first glance, the dataset used in the article does not have a column for the year. Examining the _FILM_ column we see that the year is included there. Therefore, we will create new columns to specifically house that.\n",
    "\n",
    "Also note that this also made our join strategy virtually impossible without cleaning this column up.\n",
    "\n",
    "Since it's fairly straightfoward where the year is stored, it is a simple matter of using string slicing to get the values into the columns we need. Once year and title are separated into their own columns we can quickly check to see the release year for all movies."
   ]
  },
  {
   "cell_type": "code",
   "execution_count": 40,
   "metadata": {},
   "outputs": [
    {
     "data": {
      "text/plain": [
       "2015    129\n",
       "2014     17\n",
       "Name: year, dtype: int64"
      ]
     },
     "execution_count": 40,
     "metadata": {},
     "output_type": "execute_result"
    }
   ],
   "source": [
    "fandango[\"movie_title\"] = fandango[\"FILM\"].str[0:-7]\n",
    "fandango[\"year\"] = pd.to_numeric(fandango[\"FILM\"].str[-5:-1], errors=\"coerce\", downcast=\"integer\")\n",
    "fandango[\"year\"].value_counts()"
   ]
  },
  {
   "cell_type": "markdown",
   "metadata": {},
   "source": [
    "Uh oh! There are 17 movies released in 2014 included in this sample. For the sake of simplicity we'll just remove those from the set."
   ]
  },
  {
   "cell_type": "code",
   "execution_count": 41,
   "metadata": {},
   "outputs": [
    {
     "data": {
      "text/plain": [
       "2015    129\n",
       "Name: year, dtype: int64"
      ]
     },
     "execution_count": 41,
     "metadata": {},
     "output_type": "execute_result"
    }
   ],
   "source": [
    "fandango15 = fandango[fandango[\"year\"] == 2015]"
   ]
  },
  {
   "cell_type": "markdown",
   "metadata": {},
   "source": [
    "They really weren't kidding that a lot of the work is done with data cleaning. Now that we have the data separated, we can finally do some analysis."
   ]
  },
  {
   "cell_type": "code",
   "execution_count": 64,
   "metadata": {},
   "outputs": [
    {
     "data": {
      "text/plain": [
       "[<matplotlib.axis.XTick at 0x7f93bad47c50>,\n",
       " <matplotlib.axis.XTick at 0x7f93bad47240>,\n",
       " <matplotlib.axis.XTick at 0x7f93bad31278>,\n",
       " <matplotlib.axis.XTick at 0x7f93bacea5f8>,\n",
       " <matplotlib.axis.XTick at 0x7f93bad00550>,\n",
       " <matplotlib.axis.XTick at 0x7f93bad62da0>,\n",
       " <matplotlib.axis.XTick at 0x7f93bacea780>,\n",
       " <matplotlib.axis.XTick at 0x7f93bad00358>,\n",
       " <matplotlib.axis.XTick at 0x7f93bad00d68>,\n",
       " <matplotlib.axis.XTick at 0x7f93bad062e8>]"
      ]
     },
     "execution_count": 64,
     "metadata": {},
     "output_type": "execute_result"
    },
    {
     "data": {
      "image/png": "[encoded data removed]",
      "text/plain": [
       "<Figure size 432x288 with 1 Axes>"
      ]
     },
     "metadata": {},
     "output_type": "display_data"
    }
   ],
   "source": [
    "import matplotlib.pyplot as plt\n",
    "import seaborn as sns\n",
    "from numpy import arange\n",
    "%matplotlib inline\n",
    "\n",
    "plt.style.use(\"fivethirtyeight\")\n",
    "movie_ratings_16.columns\n",
    "movie_ratings_16.head()\n",
    "\n",
    "sns.kdeplot(data=fandango[\"Fandango_Stars\"], shade=True, color=\"r\",label=\"2015\").set_title(\"Fandango Movie Ratings 2015-16\")\n",
    "sns.kdeplot(data=movie_ratings_16[\"fandango\"], shade=True, color=\"b\", label=\"2016\").set_xticks(arange(0,5,0.5))"
   ]
  },
  {
   "cell_type": "markdown",
   "metadata": {},
   "source": [
    "Both plots above show right-skewed distribution. The mean for the 2016 distribution does appear to be rated lower. The difference looks to be roughly 0.5 star difference."
   ]
  },
  {
   "cell_type": "code",
   "execution_count": 70,
   "metadata": {},
   "outputs": [
    {
     "data": {
      "text/plain": [
       "3.0     8.527132\n",
       "3.5    17.829457\n",
       "4.0    28.682171\n",
       "4.5    37.984496\n",
       "5.0     6.976744\n",
       "Name: Fandango_Stars, dtype: float64"
      ]
     },
     "execution_count": 70,
     "metadata": {},
     "output_type": "execute_result"
    }
   ],
   "source": [
    "fandango15[\"Fandango_Stars\"].value_counts(normalize=True).sort_index() * 100"
   ]
  },
  {
   "cell_type": "code",
   "execution_count": 71,
   "metadata": {},
   "outputs": [
    {
     "data": {
      "text/plain": [
       "2.5     3.141361\n",
       "3.0     7.329843\n",
       "3.5    24.083770\n",
       "4.0    40.314136\n",
       "4.5    24.607330\n",
       "5.0     0.523560\n",
       "Name: fandango, dtype: float64"
      ]
     },
     "execution_count": 71,
     "metadata": {},
     "output_type": "execute_result"
    }
   ],
   "source": [
    "movie_ratings_16[\"fandango\"].value_counts(normalize=True).sort_index() * 100"
   ]
  },
  {
   "cell_type": "markdown",
   "metadata": {},
   "source": [
    "When comparing frequency distributions, it often helps to normalize the values so that we are looking at the values on an even plane. Comparing the two tables confirms our findings with the KDE plot--that there is a difference between the ratings in 2015 and 2016, and that the ratings in 2016 trend lower than 2015. Looking at the ratings closer though, it does show that maybe the difference is not as clear. For instance, the number of 3.5 stars isn't that big between the two sets."
   ]
  },
  {
   "cell_type": "code",
   "execution_count": 73,
   "metadata": {},
   "outputs": [],
   "source": [
    "summary_stats = pd.DataFrame(columns=[\"measure\", \"year\", \"value\"])"
   ]
  },
  {
   "cell_type": "code",
   "execution_count": 131,
   "metadata": {},
   "outputs": [
    {
     "data": {
      "text/plain": [
       "Text(0.5, 1.0, 'Comparing Summary Statistics 2015-16')"
      ]
     },
     "execution_count": 131,
     "metadata": {},
     "output_type": "execute_result"
    },
    {
     "data": {
      "image/png": "[encoded data removed]",
      "text/plain": [
       "<Figure size 432x288 with 1 Axes>"
      ]
     },
     "metadata": {},
     "output_type": "display_data"
    }
   ],
   "source": [
    "def compute_summary(col):\n",
    "    stats = []\n",
    "    stats.append(col.mean())\n",
    "    stats.append(col.median())\n",
    "    stats.append(col.mode()[0])\n",
    "    return stats\n",
    "\n",
    "colss = [\"year\", \"measure\", \"value\"]\n",
    "compute_summary(fandango15[\"Fandango_Stars\"])\n",
    "summary15 = compute_summary(fandango15[\"Fandango_Stars\"])\n",
    "summary16 = compute_summary(movie_ratings_16[\"fandango\"])\n",
    "\n",
    "s = []\n",
    "datasets = [fandango15[\"Fandango_Stars\"], movie_ratings_16[\"fandango\"]]\n",
    "years = [2015, 2016]\n",
    "i = 0\n",
    "for dataset in datasets:\n",
    "    for measure in [\"mean\",\"median\",\"mode\"]:\n",
    "        row = []\n",
    "        row.append(years[i])\n",
    "        row.append(measure)\n",
    "        if measure == \"mean\":\n",
    "            row.append(dataset.mean())\n",
    "        elif measure == \"median\":\n",
    "            row.append(dataset.median())\n",
    "        elif measure == \"mode\":\n",
    "            row.append(dataset.mode()[0])\n",
    "        s.append(row)\n",
    "    i+=1\n",
    "\n",
    "summary = pd.DataFrame(s, columns=cols)\n",
    "summary\n",
    "ax = sns.barplot(x=\"measure\", y=\"value\", hue=\"year\", data=summary)\n",
    "ax.set_title(\"Comparing Summary Statistics 2015-16\")"
   ]
  },
  {
   "cell_type": "markdown",
   "metadata": {},
   "source": [
    "These measures of central tendency between the two years do not have much variation, aside from possibly the mode."
   ]
  },
  {
   "cell_type": "markdown",
   "metadata": {},
   "source": [
    "## Conclusion\n",
    "\n",
    "Our analysis showed that 2016 movie ratings on Fandango overall are lower when compared to that of 2015. While there is some evidence that Fandango making changes to their rating may have lowered the overall ratings for 2016, a more thorough analysis with more complete data is required in order to make that comparison."
   ]
  }
 ],
 "metadata": {
  "kernelspec": {
   "display_name": "Python [conda env:shinagawa]",
   "language": "python",
   "name": "conda-env-shinagawa-py"
  },
  "language_info": {
   "codemirror_mode": {
    "name": "ipython",
    "version": 3
   },
   "file_extension": ".py",
   "mimetype": "text/x-python",
   "name": "python",
   "nbconvert_exporter": "python",
   "pygments_lexer": "ipython3",
   "version": "3.7.0"
  }
 },
 "nbformat": 4,
 "nbformat_minor": 2
}
