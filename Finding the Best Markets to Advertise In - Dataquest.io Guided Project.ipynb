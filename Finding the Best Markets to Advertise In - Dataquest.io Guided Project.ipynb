{
 "cells": [
  {
   "cell_type": "markdown",
   "metadata": {},
   "source": [
    "# Finding the Best Markets to Advertise In\n",
    "This is a guided project part of the Dataquest.io Data Scientist courses. The primary goal is to supplement the lessons from the course with a hands-on project. The topics covers intermediate statics including how to summarise distributions, measuring the variability of distributions, and finally how to normalise distributions using the z-score in order to compare different distributions.\n",
    "\n",
    "In this project, we are looking to use these techniques in order to help a fictional company determine what markets they should invest their advertising dollars in.\n"
   ]
  }
 ],
 "metadata": {
  "kernelspec": {
   "display_name": "Python [conda env:shinagawa]",
   "language": "python",
   "name": "conda-env-shinagawa-py"
  },
  "language_info": {
   "codemirror_mode": {
    "name": "ipython",
    "version": 3
   },
   "file_extension": ".py",
   "mimetype": "text/x-python",
   "name": "python",
   "nbconvert_exporter": "python",
   "pygments_lexer": "ipython3",
   "version": "3.7.0"
  }
 },
 "nbformat": 4,
 "nbformat_minor": 2
}
