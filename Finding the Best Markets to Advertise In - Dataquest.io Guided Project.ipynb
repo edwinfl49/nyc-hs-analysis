{
 "cells": [
  {
   "cell_type": "markdown",
   "metadata": {},
   "source": [
    "# Finding the Best Markets to Advertise In\n",
    "This is a guided project part of the Dataquest.io Data Scientist courses. The primary goal is to supplement the lessons from the course with a hands-on project. The topics covers intermediate statics including how to summarise distributions, measuring the variability of distributions, and finally how to normalise distributions using the z-score in order to compare different distributions.\n",
    "\n",
    "In this project, we are looking to use these techniques in order to help a fictional company determine what markets they should invest their advertising dollars in."
   ]
  },
  {
   "cell_type": "code",
   "execution_count": 58,
   "metadata": {
    "scrolled": true
   },
   "outputs": [
    {
     "data": {
      "text/html": [
       "<div>\n",
       "<style scoped>\n",
       "    .dataframe tbody tr th:only-of-type {\n",
       "        vertical-align: middle;\n",
       "    }\n",
       "\n",
       "    .dataframe tbody tr th {\n",
       "        vertical-align: top;\n",
       "    }\n",
       "\n",
       "    .dataframe thead th {\n",
       "        text-align: right;\n",
       "    }\n",
       "</style>\n",
       "<table border=\"1\" class=\"dataframe\">\n",
       "  <thead>\n",
       "    <tr style=\"text-align: right;\">\n",
       "      <th></th>\n",
       "      <th>Age</th>\n",
       "      <th>AttendedBootcamp</th>\n",
       "      <th>BootcampFinish</th>\n",
       "      <th>BootcampLoanYesNo</th>\n",
       "      <th>BootcampName</th>\n",
       "      <th>BootcampRecommend</th>\n",
       "      <th>ChildrenNumber</th>\n",
       "      <th>CityPopulation</th>\n",
       "      <th>CodeEventConferences</th>\n",
       "      <th>CodeEventDjangoGirls</th>\n",
       "      <th>...</th>\n",
       "      <th>YouTubeFCC</th>\n",
       "      <th>YouTubeFunFunFunction</th>\n",
       "      <th>YouTubeGoogleDev</th>\n",
       "      <th>YouTubeLearnCode</th>\n",
       "      <th>YouTubeLevelUpTuts</th>\n",
       "      <th>YouTubeMIT</th>\n",
       "      <th>YouTubeMozillaHacks</th>\n",
       "      <th>YouTubeOther</th>\n",
       "      <th>YouTubeSimplilearn</th>\n",
       "      <th>YouTubeTheNewBoston</th>\n",
       "    </tr>\n",
       "  </thead>\n",
       "  <tbody>\n",
       "    <tr>\n",
       "      <th>0</th>\n",
       "      <td>27.0</td>\n",
       "      <td>0.0</td>\n",
       "      <td>NaN</td>\n",
       "      <td>NaN</td>\n",
       "      <td>NaN</td>\n",
       "      <td>NaN</td>\n",
       "      <td>NaN</td>\n",
       "      <td>more than 1 million</td>\n",
       "      <td>NaN</td>\n",
       "      <td>NaN</td>\n",
       "      <td>...</td>\n",
       "      <td>NaN</td>\n",
       "      <td>NaN</td>\n",
       "      <td>NaN</td>\n",
       "      <td>NaN</td>\n",
       "      <td>NaN</td>\n",
       "      <td>NaN</td>\n",
       "      <td>NaN</td>\n",
       "      <td>NaN</td>\n",
       "      <td>NaN</td>\n",
       "      <td>NaN</td>\n",
       "    </tr>\n",
       "    <tr>\n",
       "      <th>1</th>\n",
       "      <td>34.0</td>\n",
       "      <td>0.0</td>\n",
       "      <td>NaN</td>\n",
       "      <td>NaN</td>\n",
       "      <td>NaN</td>\n",
       "      <td>NaN</td>\n",
       "      <td>NaN</td>\n",
       "      <td>less than 100,000</td>\n",
       "      <td>NaN</td>\n",
       "      <td>NaN</td>\n",
       "      <td>...</td>\n",
       "      <td>1.0</td>\n",
       "      <td>NaN</td>\n",
       "      <td>NaN</td>\n",
       "      <td>NaN</td>\n",
       "      <td>NaN</td>\n",
       "      <td>NaN</td>\n",
       "      <td>NaN</td>\n",
       "      <td>NaN</td>\n",
       "      <td>NaN</td>\n",
       "      <td>NaN</td>\n",
       "    </tr>\n",
       "    <tr>\n",
       "      <th>2</th>\n",
       "      <td>21.0</td>\n",
       "      <td>0.0</td>\n",
       "      <td>NaN</td>\n",
       "      <td>NaN</td>\n",
       "      <td>NaN</td>\n",
       "      <td>NaN</td>\n",
       "      <td>NaN</td>\n",
       "      <td>more than 1 million</td>\n",
       "      <td>NaN</td>\n",
       "      <td>NaN</td>\n",
       "      <td>...</td>\n",
       "      <td>NaN</td>\n",
       "      <td>NaN</td>\n",
       "      <td>NaN</td>\n",
       "      <td>1.0</td>\n",
       "      <td>1.0</td>\n",
       "      <td>NaN</td>\n",
       "      <td>NaN</td>\n",
       "      <td>NaN</td>\n",
       "      <td>NaN</td>\n",
       "      <td>NaN</td>\n",
       "    </tr>\n",
       "    <tr>\n",
       "      <th>3</th>\n",
       "      <td>26.0</td>\n",
       "      <td>0.0</td>\n",
       "      <td>NaN</td>\n",
       "      <td>NaN</td>\n",
       "      <td>NaN</td>\n",
       "      <td>NaN</td>\n",
       "      <td>NaN</td>\n",
       "      <td>between 100,000 and 1 million</td>\n",
       "      <td>NaN</td>\n",
       "      <td>NaN</td>\n",
       "      <td>...</td>\n",
       "      <td>1.0</td>\n",
       "      <td>1.0</td>\n",
       "      <td>NaN</td>\n",
       "      <td>NaN</td>\n",
       "      <td>1.0</td>\n",
       "      <td>NaN</td>\n",
       "      <td>NaN</td>\n",
       "      <td>NaN</td>\n",
       "      <td>NaN</td>\n",
       "      <td>NaN</td>\n",
       "    </tr>\n",
       "    <tr>\n",
       "      <th>4</th>\n",
       "      <td>20.0</td>\n",
       "      <td>0.0</td>\n",
       "      <td>NaN</td>\n",
       "      <td>NaN</td>\n",
       "      <td>NaN</td>\n",
       "      <td>NaN</td>\n",
       "      <td>NaN</td>\n",
       "      <td>between 100,000 and 1 million</td>\n",
       "      <td>NaN</td>\n",
       "      <td>NaN</td>\n",
       "      <td>...</td>\n",
       "      <td>NaN</td>\n",
       "      <td>NaN</td>\n",
       "      <td>NaN</td>\n",
       "      <td>NaN</td>\n",
       "      <td>NaN</td>\n",
       "      <td>NaN</td>\n",
       "      <td>NaN</td>\n",
       "      <td>NaN</td>\n",
       "      <td>NaN</td>\n",
       "      <td>NaN</td>\n",
       "    </tr>\n",
       "  </tbody>\n",
       "</table>\n",
       "<p>5 rows × 136 columns</p>\n",
       "</div>"
      ],
      "text/plain": [
       "    Age  AttendedBootcamp  BootcampFinish  BootcampLoanYesNo BootcampName  \\\n",
       "0  27.0               0.0             NaN                NaN          NaN   \n",
       "1  34.0               0.0             NaN                NaN          NaN   \n",
       "2  21.0               0.0             NaN                NaN          NaN   \n",
       "3  26.0               0.0             NaN                NaN          NaN   \n",
       "4  20.0               0.0             NaN                NaN          NaN   \n",
       "\n",
       "   BootcampRecommend  ChildrenNumber                 CityPopulation  \\\n",
       "0                NaN             NaN            more than 1 million   \n",
       "1                NaN             NaN              less than 100,000   \n",
       "2                NaN             NaN            more than 1 million   \n",
       "3                NaN             NaN  between 100,000 and 1 million   \n",
       "4                NaN             NaN  between 100,000 and 1 million   \n",
       "\n",
       "   CodeEventConferences  CodeEventDjangoGirls         ...           \\\n",
       "0                   NaN                   NaN         ...            \n",
       "1                   NaN                   NaN         ...            \n",
       "2                   NaN                   NaN         ...            \n",
       "3                   NaN                   NaN         ...            \n",
       "4                   NaN                   NaN         ...            \n",
       "\n",
       "   YouTubeFCC  YouTubeFunFunFunction  YouTubeGoogleDev  YouTubeLearnCode  \\\n",
       "0         NaN                    NaN               NaN               NaN   \n",
       "1         1.0                    NaN               NaN               NaN   \n",
       "2         NaN                    NaN               NaN               1.0   \n",
       "3         1.0                    1.0               NaN               NaN   \n",
       "4         NaN                    NaN               NaN               NaN   \n",
       "\n",
       "   YouTubeLevelUpTuts  YouTubeMIT  YouTubeMozillaHacks YouTubeOther  \\\n",
       "0                 NaN         NaN                  NaN          NaN   \n",
       "1                 NaN         NaN                  NaN          NaN   \n",
       "2                 1.0         NaN                  NaN          NaN   \n",
       "3                 1.0         NaN                  NaN          NaN   \n",
       "4                 NaN         NaN                  NaN          NaN   \n",
       "\n",
       "   YouTubeSimplilearn  YouTubeTheNewBoston  \n",
       "0                 NaN                  NaN  \n",
       "1                 NaN                  NaN  \n",
       "2                 NaN                  NaN  \n",
       "3                 NaN                  NaN  \n",
       "4                 NaN                  NaN  \n",
       "\n",
       "[5 rows x 136 columns]"
      ]
     },
     "execution_count": 58,
     "metadata": {},
     "output_type": "execute_result"
    },
    {
     "data": {
      "text/plain": [
       "(18175, 136)"
      ]
     },
     "execution_count": 58,
     "metadata": {},
     "output_type": "execute_result"
    }
   ],
   "source": [
    "%matplotlib inline\n",
    "import pandas as pd\n",
    "import matplotlib.pyplot as plt\n",
    "import seaborn as sns\n",
    "from IPython.core.interactiveshell import InteractiveShell\n",
    "InteractiveShell.ast_node_interactivity = \"all\"\n",
    "\n",
    "data = pd.read_csv('data/2017-fCC-New-Coders-Survey-Data.csv', low_memory=False)\n",
    "\n",
    "data.head(5)\n",
    "data.shape"
   ]
  },
  {
   "cell_type": "markdown",
   "metadata": {},
   "source": [
    "## About the Data\n",
    "The data from the freeCodeCamp New Coder Survey. We are using this because Dataquest.io told us to. On a more serious note, the pratical reasons for using this data is because it takes a lot of time and money to conduct a survey. Gathering data is a large effort on its own and is beyond the scope of this course.\n",
    "\n",
    "The New Coder Survey asks respondants how they are learning how to code. The defintion of a new coder in this survey is someone who has been coding for less than five years. There were over 31,000 responses to the survey.\n",
    "\n",
    "The dataset is available on the following Github repository: https://github.com/freeCodeCamp/2017-new-coder-survey"
   ]
  },
  {
   "cell_type": "markdown",
   "metadata": {},
   "source": [
    "## Is This Data Representative?\n",
    "\n",
    "Does this survey data that is relevant to the answers we are trying to find? Here what we are trying to find out:\n",
    "- Where are thes new coders located?\n",
    "- What are the locations with the greatest number of new coders\n",
    "- How much money new coders are willing to spend on learning\n",
    "\n",
    "There are 132 columns. Pandas seems to truncate any lists that are too long. By using `Dataframe.columns` and converting that to a Python list, we are able to see all of the columns. From there, identifying the columns is a matter of scanning through the output. Let's list out some of the columns in no particular order\n",
    "- BootcampLoanYesNo\n",
    "- CityPopulation\n",
    "- CountryCitizen\n",
    "- CountryLive\n",
    "- ExpectedEarning\n",
    "- FinanciallSupprting\n",
    "- HasDebt\n",
    "- MoneyForLearning"
   ]
  },
  {
   "cell_type": "code",
   "execution_count": 59,
   "metadata": {},
   "outputs": [
    {
     "data": {
      "text/plain": [
       "['Age',\n",
       " 'AttendedBootcamp',\n",
       " 'BootcampFinish',\n",
       " 'BootcampLoanYesNo',\n",
       " 'BootcampName',\n",
       " 'BootcampRecommend',\n",
       " 'ChildrenNumber',\n",
       " 'CityPopulation',\n",
       " 'CodeEventConferences',\n",
       " 'CodeEventDjangoGirls',\n",
       " 'CodeEventFCC',\n",
       " 'CodeEventGameJam',\n",
       " 'CodeEventGirlDev',\n",
       " 'CodeEventHackathons',\n",
       " 'CodeEventMeetup',\n",
       " 'CodeEventNodeSchool',\n",
       " 'CodeEventNone',\n",
       " 'CodeEventOther',\n",
       " 'CodeEventRailsBridge',\n",
       " 'CodeEventRailsGirls',\n",
       " 'CodeEventStartUpWknd',\n",
       " 'CodeEventWkdBootcamps',\n",
       " 'CodeEventWomenCode',\n",
       " 'CodeEventWorkshops',\n",
       " 'CommuteTime',\n",
       " 'CountryCitizen',\n",
       " 'CountryLive',\n",
       " 'EmploymentField',\n",
       " 'EmploymentFieldOther',\n",
       " 'EmploymentStatus',\n",
       " 'EmploymentStatusOther',\n",
       " 'ExpectedEarning',\n",
       " 'FinanciallySupporting',\n",
       " 'FirstDevJob',\n",
       " 'Gender',\n",
       " 'GenderOther',\n",
       " 'HasChildren',\n",
       " 'HasDebt',\n",
       " 'HasFinancialDependents',\n",
       " 'HasHighSpdInternet',\n",
       " 'HasHomeMortgage',\n",
       " 'HasServedInMilitary',\n",
       " 'HasStudentDebt',\n",
       " 'HomeMortgageOwe',\n",
       " 'HoursLearning',\n",
       " 'ID.x',\n",
       " 'ID.y',\n",
       " 'Income',\n",
       " 'IsEthnicMinority',\n",
       " 'IsReceiveDisabilitiesBenefits',\n",
       " 'IsSoftwareDev',\n",
       " 'IsUnderEmployed',\n",
       " 'JobApplyWhen',\n",
       " 'JobInterestBackEnd',\n",
       " 'JobInterestDataEngr',\n",
       " 'JobInterestDataSci',\n",
       " 'JobInterestDevOps',\n",
       " 'JobInterestFrontEnd',\n",
       " 'JobInterestFullStack',\n",
       " 'JobInterestGameDev',\n",
       " 'JobInterestInfoSec',\n",
       " 'JobInterestMobile',\n",
       " 'JobInterestOther',\n",
       " 'JobInterestProjMngr',\n",
       " 'JobInterestQAEngr',\n",
       " 'JobInterestUX',\n",
       " 'JobPref',\n",
       " 'JobRelocateYesNo',\n",
       " 'JobRoleInterest',\n",
       " 'JobWherePref',\n",
       " 'LanguageAtHome',\n",
       " 'MaritalStatus',\n",
       " 'MoneyForLearning',\n",
       " 'MonthsProgramming',\n",
       " 'NetworkID',\n",
       " 'Part1EndTime',\n",
       " 'Part1StartTime',\n",
       " 'Part2EndTime',\n",
       " 'Part2StartTime',\n",
       " 'PodcastChangeLog',\n",
       " 'PodcastCodeNewbie',\n",
       " 'PodcastCodePen',\n",
       " 'PodcastDevTea',\n",
       " 'PodcastDotNET',\n",
       " 'PodcastGiantRobots',\n",
       " 'PodcastJSAir',\n",
       " 'PodcastJSJabber',\n",
       " 'PodcastNone',\n",
       " 'PodcastOther',\n",
       " 'PodcastProgThrowdown',\n",
       " 'PodcastRubyRogues',\n",
       " 'PodcastSEDaily',\n",
       " 'PodcastSERadio',\n",
       " 'PodcastShopTalk',\n",
       " 'PodcastTalkPython',\n",
       " 'PodcastTheWebAhead',\n",
       " 'ResourceCodecademy',\n",
       " 'ResourceCodeWars',\n",
       " 'ResourceCoursera',\n",
       " 'ResourceCSS',\n",
       " 'ResourceEdX',\n",
       " 'ResourceEgghead',\n",
       " 'ResourceFCC',\n",
       " 'ResourceHackerRank',\n",
       " 'ResourceKA',\n",
       " 'ResourceLynda',\n",
       " 'ResourceMDN',\n",
       " 'ResourceOdinProj',\n",
       " 'ResourceOther',\n",
       " 'ResourcePluralSight',\n",
       " 'ResourceSkillcrush',\n",
       " 'ResourceSO',\n",
       " 'ResourceTreehouse',\n",
       " 'ResourceUdacity',\n",
       " 'ResourceUdemy',\n",
       " 'ResourceW3S',\n",
       " 'SchoolDegree',\n",
       " 'SchoolMajor',\n",
       " 'StudentDebtOwe',\n",
       " 'YouTubeCodeCourse',\n",
       " 'YouTubeCodingTrain',\n",
       " 'YouTubeCodingTut360',\n",
       " 'YouTubeComputerphile',\n",
       " 'YouTubeDerekBanas',\n",
       " 'YouTubeDevTips',\n",
       " 'YouTubeEngineeredTruth',\n",
       " 'YouTubeFCC',\n",
       " 'YouTubeFunFunFunction',\n",
       " 'YouTubeGoogleDev',\n",
       " 'YouTubeLearnCode',\n",
       " 'YouTubeLevelUpTuts',\n",
       " 'YouTubeMIT',\n",
       " 'YouTubeMozillaHacks',\n",
       " 'YouTubeOther',\n",
       " 'YouTubeSimplilearn',\n",
       " 'YouTubeTheNewBoston']"
      ]
     },
     "execution_count": 59,
     "metadata": {},
     "output_type": "execute_result"
    }
   ],
   "source": [
    "data.columns.values.tolist()"
   ]
  },
  {
   "cell_type": "code",
   "execution_count": 60,
   "metadata": {},
   "outputs": [
    {
     "data": {
      "text/plain": [
       "(172,)"
      ]
     },
     "execution_count": 60,
     "metadata": {},
     "output_type": "execute_result"
    },
    {
     "data": {
      "text/plain": [
       "18170       10.0\n",
       "18171    10000.0\n",
       "18172       19.0\n",
       "18173        0.0\n",
       "18174        NaN\n",
       "Name: MoneyForLearning, dtype: float64"
      ]
     },
     "execution_count": 60,
     "metadata": {},
     "output_type": "execute_result"
    }
   ],
   "source": [
    "data[\"CountryLive\"].value_counts().shape\n",
    "data[\"MoneyForLearning\"].tail()"
   ]
  },
  {
   "cell_type": "markdown",
   "metadata": {},
   "source": [
    "The two key columns are _CountryLive_ and _MoneyForLearning_. These two columns are likely the key columns to answer the question. The other columns listed may help us provide more depth in answering the questions."
   ]
  },
  {
   "cell_type": "code",
   "execution_count": 61,
   "metadata": {},
   "outputs": [
    {
     "data": {
      "text/plain": [
       "Full-Stack Web Developer                                                                                                                                                                                                                 0.117706\n",
       "  Front-End Web Developer                                                                                                                                                                                                                0.064359\n",
       "  Data Scientist                                                                                                                                                                                                                         0.021739\n",
       "Back-End Web Developer                                                                                                                                                                                                                   0.020309\n",
       "  Mobile Developer                                                                                                                                                                                                                       0.016733\n",
       "Game Developer                                                                                                                                                                                                                           0.016304\n",
       "Information Security                                                                                                                                                                                                                     0.013158\n",
       "Full-Stack Web Developer,   Front-End Web Developer                                                                                                                                                                                      0.009153\n",
       "  Front-End Web Developer, Full-Stack Web Developer                                                                                                                                                                                      0.008009\n",
       "  Product Manager                                                                                                                                                                                                                        0.007866\n",
       "Data Engineer                                                                                                                                                                                                                            0.007580\n",
       "  User Experience Designer                                                                                                                                                                                                               0.007437\n",
       "  User Experience Designer,   Front-End Web Developer                                                                                                                                                                                    0.006150\n",
       "  Front-End Web Developer, Back-End Web Developer, Full-Stack Web Developer                                                                                                                                                              0.005578\n",
       "Back-End Web Developer,   Front-End Web Developer, Full-Stack Web Developer                                                                                                                                                              0.005149\n",
       "Back-End Web Developer, Full-Stack Web Developer,   Front-End Web Developer                                                                                                                                                              0.005149\n",
       "  DevOps / SysAdmin                                                                                                                                                                                                                      0.005149\n",
       "Full-Stack Web Developer,   Front-End Web Developer, Back-End Web Developer                                                                                                                                                              0.004434\n",
       "  Front-End Web Developer, Full-Stack Web Developer, Back-End Web Developer                                                                                                                                                              0.004291\n",
       "  Front-End Web Developer,   User Experience Designer                                                                                                                                                                                    0.004148\n",
       "Full-Stack Web Developer,   Mobile Developer                                                                                                                                                                                             0.004148\n",
       "Back-End Web Developer, Full-Stack Web Developer                                                                                                                                                                                         0.003862\n",
       "Full-Stack Web Developer, Back-End Web Developer                                                                                                                                                                                         0.003719\n",
       "Back-End Web Developer,   Front-End Web Developer                                                                                                                                                                                        0.002860\n",
       "Data Engineer,   Data Scientist                                                                                                                                                                                                          0.002717\n",
       "Full-Stack Web Developer, Back-End Web Developer,   Front-End Web Developer                                                                                                                                                              0.002717\n",
       "  Front-End Web Developer,   Mobile Developer                                                                                                                                                                                            0.002574\n",
       "Full-Stack Web Developer,   Data Scientist                                                                                                                                                                                               0.002431\n",
       "  Data Scientist, Data Engineer                                                                                                                                                                                                          0.002288\n",
       "  Mobile Developer, Game Developer                                                                                                                                                                                                       0.002288\n",
       "                                                                                                                                                                                                                                           ...   \n",
       "  Data Scientist, Information Security,   Front-End Web Developer, Researcher                                                                                                                                                            0.000143\n",
       "  Mobile Developer, Back-End Web Developer,   Product Manager,   User Experience Designer,   Data Scientist, Data Engineer, Game Developer, Full-Stack Web Developer,   Front-End Web Developer                                          0.000143\n",
       "  DevOps / SysAdmin, Data Engineer,   Data Scientist,   User Experience Designer, Full-Stack Web Developer                                                                                                                               0.000143\n",
       "Data Engineer, Game Developer,   DevOps / SysAdmin,   Data Scientist                                                                                                                                                                     0.000143\n",
       "Back-End Web Developer,   Front-End Web Developer, Data Engineer,   Mobile Developer, Game Developer,   Product Manager, Full-Stack Web Developer                                                                                        0.000143\n",
       "  Mobile Developer,   Front-End Web Developer,   User Experience Designer, Game Developer                                                                                                                                                0.000143\n",
       "Full-Stack Web Developer,   Front-End Web Developer,   Quality Assurance Engineer, Back-End Web Developer,   User Experience Designer                                                                                                    0.000143\n",
       "Full-Stack Web Developer, Back-End Web Developer,   Front-End Web Developer, Data Engineer,   Mobile Developer                                                                                                                           0.000143\n",
       "Information Security,   DevOps / SysAdmin, Back-End Web Developer, Full-Stack Web Developer                                                                                                                                              0.000143\n",
       "  Quality Assurance Engineer,   User Experience Designer,   Front-End Web Developer, Full-Stack Web Developer, Back-End Web Developer                                                                                                    0.000143\n",
       "  Product Manager, Full-Stack Web Developer,   Data Scientist, Information Security,   Front-End Web Developer                                                                                                                           0.000143\n",
       "Information Security,   Data Scientist,   Mobile Developer                                                                                                                                                                               0.000143\n",
       "Information Security,   Data Scientist,   Product Manager                                                                                                                                                                                0.000143\n",
       "  Mobile Developer, Full-Stack Web Developer, Information Security,   DevOps / SysAdmin                                                                                                                                                  0.000143\n",
       "Information Security,   DevOps / SysAdmin, Back-End Web Developer, Full-Stack Web Developer,   Quality Assurance Engineer,   Mobile Developer,   Front-End Web Developer,   User Experience Designer                                     0.000143\n",
       "  Front-End Web Developer,   Quality Assurance Engineer, Full-Stack Web Developer                                                                                                                                                        0.000143\n",
       "Back-End Web Developer,   Product Manager, Data Engineer,   Data Scientist, Full-Stack Web Developer, Information Security                                                                                                               0.000143\n",
       "Back-End Web Developer,   Front-End Web Developer, Information Security, Full-Stack Web Developer, Game Developer                                                                                                                        0.000143\n",
       "Game Developer, Information Security, Data Engineer,   Front-End Web Developer,   Mobile Developer, Full-Stack Web Developer, Back-End Web Developer                                                                                     0.000143\n",
       "  Product Manager, Back-End Web Developer, Data Engineer                                                                                                                                                                                 0.000143\n",
       "Information Security, Back-End Web Developer,   Mobile Developer, Data Engineer,   Data Scientist                                                                                                                                        0.000143\n",
       "  User Experience Designer,   Front-End Web Developer, Back-End Web Developer, Full-Stack Web Developer                                                                                                                                  0.000143\n",
       "Full-Stack Web Developer,   Data Scientist,   Product Manager, Data Engineer, Back-End Web Developer                                                                                                                                     0.000143\n",
       "Full-Stack Web Developer,   Data Scientist,   Quality Assurance Engineer,   Front-End Web Developer,   User Experience Designer, Information Security, Back-End Web Developer, Data Engineer,   DevOps / SysAdmin,   Mobile Developer    0.000143\n",
       "  Mobile Developer,   Front-End Web Developer,   Data Scientist,   User Experience Designer, Full-Stack Web Developer                                                                                                                    0.000143\n",
       "  Mobile Developer, Back-End Web Developer, Data Engineer,   Data Scientist                                                                                                                                                              0.000143\n",
       "Back-End Web Developer,   Data Scientist, Game Developer, Data Engineer, Full-Stack Web Developer,   User Experience Designer                                                                                                            0.000143\n",
       "Research                                                                                                                                                                                                                                 0.000143\n",
       "Full-Stack Web Developer,   DevOps / SysAdmin,   Front-End Web Developer                                                                                                                                                                 0.000143\n",
       "  Mobile Developer,   Product Manager, Game Developer, Full-Stack Web Developer                                                                                                                                                          0.000143\n",
       "Name: JobRoleInterest, Length: 3213, dtype: float64"
      ]
     },
     "execution_count": 61,
     "metadata": {},
     "output_type": "execute_result"
    }
   ],
   "source": [
    "data[\"JobRoleInterest\"].value_counts(normalize=True)"
   ]
  },
  {
   "cell_type": "code",
   "execution_count": 62,
   "metadata": {
    "scrolled": true
   },
   "outputs": [
    {
     "data": {
      "text/plain": [
       "<matplotlib.axes._subplots.AxesSubplot at 0x7ffa6ca79be0>"
      ]
     },
     "execution_count": 62,
     "metadata": {},
     "output_type": "execute_result"
    },
    {
     "data": {
      "image/png": "[encoded data removed]",
      "text/plain": [
       "<Figure size 432x288 with 1 Axes>"
      ]
     },
     "metadata": {
      "needs_background": "light"
     },
     "output_type": "display_data"
    }
   ],
   "source": [
    "data[\"JobRoleInterest\"].value_counts().head(10).plot.bar()"
   ]
  },
  {
   "cell_type": "code",
   "execution_count": 63,
   "metadata": {},
   "outputs": [
    {
     "data": {
      "text/plain": [
       "<BarContainer object of 2 artists>"
      ]
     },
     "execution_count": 63,
     "metadata": {},
     "output_type": "execute_result"
    },
    {
     "data": {
      "text/plain": [
       "([<matplotlib.axis.XTick at 0x7ffa6ed513c8>,\n",
       "  <matplotlib.axis.XTick at 0x7ffa6ed51208>],\n",
       " <a list of 2 Text xticklabel objects>)"
      ]
     },
     "execution_count": 63,
     "metadata": {},
     "output_type": "execute_result"
    },
    {
     "data": {
      "image/png": "[encoded data removed]",
      "text/plain": [
       "<Figure size 432x288 with 1 Axes>"
      ]
     },
     "metadata": {
      "needs_background": "light"
     },
     "output_type": "display_data"
    }
   ],
   "source": [
    "interest = {}\n",
    "count_interest = data[\"JobRoleInterest\"].str.extract('([Ww]eb)|([Mm]obile)')\n",
    "\n",
    "interest[\"web\"] = count_interest[0].count()\n",
    "interest[\"mobile\"] = count_interest[1].count()\n",
    "#interest[\"both\"] = count_interest[0].count() + count_interest[1].count()\n",
    "\n",
    "plt.bar(x=range(len(interest)), height=list(interest.values()))\n",
    "plt.xticks(range(len(interest)), list(interest.keys()))"
   ]
  },
  {
   "cell_type": "markdown",
   "metadata": {},
   "source": [
    "### How many people are interested in Web or Mobile Development\n",
    "We want to focus on just the respondants who are interested in web or mobile development. We use a str.extract function to look for any answers that contain _web_ or _mobile_. The extract function in Pandas let's us use a regex with grouping and returns T/F for each grouping. This allows us to get a quick count.\n",
    "\n",
    "Finally, we store the results in a dictionary and drop a basic bar chart. We show about 6000 in this sample that are interested in either web or mobile development.\n",
    "\n",
    "Note that there could be other categories that could fit into eithe category. However, we are only trying to make sure we have enough responses to do our analysis at this point."
   ]
  },
  {
   "cell_type": "code",
   "execution_count": 64,
   "metadata": {},
   "outputs": [],
   "source": [
    "# remove rows where the column mentioned is empoty\n",
    "\n",
    "data = data[data[\"JobRoleInterest\"].notnull()]\n",
    "# Note that this removes about 12k rows from our data...."
   ]
  },
  {
   "cell_type": "code",
   "execution_count": 65,
   "metadata": {},
   "outputs": [
    {
     "data": {
      "text/plain": [
       "United States of America         3125\n",
       "India                             528\n",
       "United Kingdom                    315\n",
       "Canada                            260\n",
       "Poland                            131\n",
       "Brazil                            129\n",
       "Germany                           125\n",
       "Australia                         112\n",
       "Russia                            102\n",
       "Ukraine                            89\n",
       "Nigeria                            84\n",
       "Spain                              77\n",
       "France                             75\n",
       "Romania                            71\n",
       "Netherlands (Holland, Europe)      65\n",
       "Italy                              62\n",
       "Serbia                             52\n",
       "Philippines                        52\n",
       "Greece                             46\n",
       "Ireland                            43\n",
       "Name: CountryLive, dtype: int64"
      ]
     },
     "execution_count": 65,
     "metadata": {},
     "output_type": "execute_result"
    }
   ],
   "source": [
    "data[\"CountryLive\"].value_counts().head(20)"
   ]
  },
  {
   "cell_type": "code",
   "execution_count": 10,
   "metadata": {},
   "outputs": [
    {
     "data": {
      "text/plain": [
       "United States of America         0.457005\n",
       "India                            0.077216\n",
       "United Kingdom                   0.046066\n",
       "Canada                           0.038023\n",
       "Poland                           0.019158\n",
       "Brazil                           0.018865\n",
       "Germany                          0.018280\n",
       "Australia                        0.016379\n",
       "Russia                           0.014917\n",
       "Ukraine                          0.013016\n",
       "Nigeria                          0.012284\n",
       "Spain                            0.011261\n",
       "France                           0.010968\n",
       "Romania                          0.010383\n",
       "Netherlands (Holland, Europe)    0.009506\n",
       "Italy                            0.009067\n",
       "Serbia                           0.007605\n",
       "Philippines                      0.007605\n",
       "Greece                           0.006727\n",
       "Ireland                          0.006288\n",
       "Name: CountryLive, dtype: float64"
      ]
     },
     "execution_count": 10,
     "metadata": {},
     "output_type": "execute_result"
    }
   ],
   "source": [
    "data[\"CountryLive\"].value_counts(normalize=True).head(20)"
   ]
  },
  {
   "cell_type": "markdown",
   "metadata": {},
   "source": [
    "### Where are the Respondants From?\n",
    "Generating frequency tables for the _CountryLive_ column reveals that a vast majority are from the USA. Because the USA represents such a large amount, it is probably too big to ignore and will be a target anyway. The following countries in order are India, UK, Canada, and Poland.\n",
    "\n",
    "Based on the analysis of these quick results, the two markets I would choose to advertise would be the USA and either the UK or Canada. There are several reasons why I decided to skip India,\n",
    "- Wealth/GDP. We have not looked at the money spent on education column. This will be an important measure. India in general is also a poorer country and is still classified as a developing nation. There may not be as many potential students there that are willing or have the resources to pay extra for training.\n",
    "- Language. The top four countries all speak English. Language is an important consideration when considering advertising campaigns. There is a LanguageAtHome column in the dataset that we can analyze if needed. This may not be as important consideration with the top four countries all speaking English.\n",
    "- Cultural barriers. This is harder to measure, but there could be other unknown cultural and local considerations when advertising. "
   ]
  },
  {
   "cell_type": "code",
   "execution_count": 67,
   "metadata": {},
   "outputs": [
    {
     "data": {
      "text/plain": [
       "(0, 137)"
      ]
     },
     "execution_count": 67,
     "metadata": {},
     "output_type": "execute_result"
    },
    {
     "data": {
      "text/plain": [
       "United States of America    2933\n",
       "India                        463\n",
       "United Kingdom               279\n",
       "Canada                       240\n",
       "Poland                       122\n",
       "Name: CountryLive, dtype: int64"
      ]
     },
     "execution_count": 67,
     "metadata": {},
     "output_type": "execute_result"
    }
   ],
   "source": [
    "# remove null/na values \n",
    "data[\"money_for_learning_per_month\"] = data[\"MoneyForLearning\"]/(data[\"MonthsProgramming\"].replace(0,1))\n",
    "\n",
    "count_na = data[data[\"money_for_learning_per_month\"].isna()]\n",
    "count_na.shape\n",
    "\n",
    "# the subset argument allows us to only drop rows if the columns in the list are included\n",
    "data = data.dropna(axis=0, subset=['money_for_learning_per_month', 'CountryLive'])"
   ]
  },
  {
   "cell_type": "code",
   "execution_count": 51,
   "metadata": {},
   "outputs": [
    {
     "data": {
      "text/plain": [
       "CountryLive\n",
       "Yemen                10000.000000\n",
       "Puerto Rico           4291.394558\n",
       "Austria                936.208333\n",
       "Spain                  784.553084\n",
       "Jamaica                747.037037\n",
       "Hong Kong              523.341049\n",
       "Trinidad & Tobago      500.000000\n",
       "Australia              419.268452\n",
       "Taiwan                 417.966524\n",
       "Luxembourg             338.817664\n",
       "Norway                 318.914815\n",
       "New Zealand            316.171958\n",
       "Chile                  300.416667\n",
       "Israel                 298.130787\n",
       "Russia                 284.615280\n",
       "Portugal               277.752763\n",
       "Uganda                 276.620370\n",
       "Vietnam                243.324074\n",
       "Bangladesh             239.361883\n",
       "Niger                  239.303571\n",
       "Name: money_for_learning_per_month, dtype: float64"
      ]
     },
     "execution_count": 51,
     "metadata": {},
     "output_type": "execute_result"
    },
    {
     "data": {
      "text/plain": [
       "CountryLive\n",
       "United States of America    227.997996\n",
       "United Kingdom               45.534443\n",
       "India                       135.100982\n",
       "Canada                      113.510961\n",
       "Name: money_for_learning_per_month, dtype: float64"
      ]
     },
     "execution_count": 51,
     "metadata": {},
     "output_type": "execute_result"
    },
    {
     "data": {
      "text/plain": [
       "array(['United States of America', 'Brazil', 'Portugal', 'United Kingdom',\n",
       "       'Mexico', 'Germany', 'Italy', 'Argentina', 'Venezuela', 'India',\n",
       "       'Canada', 'Australia', 'Egypt', 'Lithuania', nan, 'Finland',\n",
       "       'Bosnia & Herzegovina', 'Netherlands (Holland, Europe)', 'Kenya',\n",
       "       'Switzerland', 'Hungary', 'Turkey', 'Poland', 'Great Britain',\n",
       "       'Russia', 'China', 'Spain', 'Ireland', 'France', 'Nigeria', 'Iran',\n",
       "       'Kyrgyzstan', 'Greece', 'Philippines', 'Georgia', 'Romania',\n",
       "       'Norway', 'Peru', 'Iraq', 'Sweden', 'Bulgaria', 'Singapore',\n",
       "       'Ukraine', 'Austria', 'New Zealand', 'Serbia', 'Bangladesh',\n",
       "       'Belgium', 'Honduras', 'Puerto Rico', 'Denmark', 'Japan', 'Cyprus',\n",
       "       'Ghana', 'Czech Republic', 'Macedonia', 'Costa Rica', 'Tunisia',\n",
       "       'Chile', 'South Africa', 'Albania', 'Malaysia', 'Thailand',\n",
       "       'Iceland', 'Pakistan', 'Guam', 'Indonesia', 'Algeria', 'Senegal',\n",
       "       'Belarus', 'Sri Lanka', 'Israel', 'United Arab Emirates',\n",
       "       'Virgin Islands (USA)', 'Turkmenistan', 'Botswana', 'Croatia',\n",
       "       'Jamaica', 'Hong Kong', 'Taiwan', 'Haiti', 'Ecuador', 'Slovenia',\n",
       "       'Vietnam', 'Colombia', 'Latvia', 'Bahrain', 'Panama', 'Morocco',\n",
       "       'Slovakia', 'Kazakhstan', 'Korea South', 'Lebanon', 'Saudi Arabia',\n",
       "       'Yemen', 'Gibraltar', 'Estonia', 'Somalia', 'Uruguay', 'Uganda',\n",
       "       'Nepal', 'Cayman Islands', 'Dominican Republic', 'Guadeloupe',\n",
       "       'Papua New Guinea', 'Liberia', 'Luxembourg', 'Zimbabwe',\n",
       "       'Cambodia', 'Qatar', 'Aruba', 'Trinidad & Tobago', 'Mauritius',\n",
       "       'Netherland Antilles', 'Niger', 'Azerbaijan', 'Afghanistan',\n",
       "       'Paraguay', 'Guatemala', 'Bolivia', 'Sudan', 'Republic of Serbia',\n",
       "       'Myanmar', 'Rwanda', 'Uzbekistan', 'Jordan', 'Angola', 'Nambia',\n",
       "       'Samoa', 'Channel Islands', 'Cameroon', 'Cuba', 'Vanuatu',\n",
       "       'Moldova', 'Anguilla', 'Mozambique', 'Nicaragua', 'Gambia'],\n",
       "      dtype=object)"
      ]
     },
     "execution_count": 51,
     "metadata": {},
     "output_type": "execute_result"
    }
   ],
   "source": [
    "top_spend_per_month = data.groupby([\"CountryLive\"])[\"money_for_learning_per_month\"].mean().sort_values(ascending=False)\n",
    "\n",
    "top_four = [\"United States of America\",\"United Kingdom\",\"India\",\"Canada\"]\n",
    "top_spend_per_month.head(20)\n",
    "top_spend_per_month.loc[top_four]"
   ]
  },
  {
   "cell_type": "markdown",
   "metadata": {},
   "source": [
    "### How Much are the Top Countries Spending per Month?\n",
    "The main surprises here come from how India spends more per money on training compared to the UK and Canada. You would not really expect that as the average resident there has less income in general.\n",
    "\n",
    "We will do further analysis by creating a box plot of the amount spent per month for the top four countries."
   ]
  },
  {
   "cell_type": "code",
   "execution_count": 68,
   "metadata": {},
   "outputs": [
    {
     "data": {
      "text/plain": [
       "<matplotlib.axes._subplots.AxesSubplot at 0x7ffa6ca69f98>"
      ]
     },
     "execution_count": 68,
     "metadata": {},
     "output_type": "execute_result"
    },
    {
     "data": {
      "text/plain": [
       "([<matplotlib.axis.XTick at 0x7ffa6cddfa20>,\n",
       "  <matplotlib.axis.XTick at 0x7ffa6cade860>,\n",
       "  <matplotlib.axis.XTick at 0x7ffa6cdb4cc0>,\n",
       "  <matplotlib.axis.XTick at 0x7ffa6ec900f0>],\n",
       " <a list of 4 Text xticklabel objects>)"
      ]
     },
     "execution_count": 68,
     "metadata": {},
     "output_type": "execute_result"
    },
    {
     "data": {
      "text/plain": [
       "Text(0.5, 0, 'Country')"
      ]
     },
     "execution_count": 68,
     "metadata": {},
     "output_type": "execute_result"
    },
    {
     "data": {
      "text/plain": [
       "Text(0, 0.5, 'Money Spent Per Month (USD)')"
      ]
     },
     "execution_count": 68,
     "metadata": {},
     "output_type": "execute_result"
    },
    {
     "data": {
      "text/plain": [
       "Text(0.5, 1.0, 'Money Spent Per Month Per Country')"
      ]
     },
     "execution_count": 68,
     "metadata": {},
     "output_type": "execute_result"
    },
    {
     "data": {
      "image/png": "[encoded data removed]",
      "text/plain": [
       "<Figure size 432x288 with 1 Axes>"
      ]
     },
     "metadata": {
      "needs_background": "light"
     },
     "output_type": "display_data"
    }
   ],
   "source": [
    "top_four_spending = data[data[\"CountryLive\"].str.contains('United States of America|United Kingdom|India|Canada')]\n",
    "\n",
    "sns.boxplot(x=\"CountryLive\", y=\"money_for_learning_per_month\", data=top_four_spending)\n",
    "plt.xticks(range(4), [\"USA\", \"UK\", \"India\", \"Canada\"])\n",
    "plt.xlabel(\"Country\")\n",
    "plt.ylabel(\"Money Spent Per Month (USD)\")\n",
    "plt.title(\"Money Spent Per Month Per Country\")"
   ]
  },
  {
   "cell_type": "markdown",
   "metadata": {},
   "source": [
    "We can immediately see some extreme values from the USA. It's hard to imagine any type of training costing $50k or more in a single month. "
   ]
  },
  {
   "cell_type": "code",
   "execution_count": 71,
   "metadata": {},
   "outputs": [
    {
     "data": {
      "text/plain": [
       "CountryLive\n",
       "United States of America    183.800110\n",
       "United Kingdom               45.534443\n",
       "India                       135.100982\n",
       "Canada                      113.510961\n",
       "Name: money_for_learning_per_month, dtype: float64"
      ]
     },
     "execution_count": 71,
     "metadata": {},
     "output_type": "execute_result"
    },
    {
     "data": {
      "text/plain": [
       "<matplotlib.axes._subplots.AxesSubplot at 0x7ffa6c4078d0>"
      ]
     },
     "execution_count": 71,
     "metadata": {},
     "output_type": "execute_result"
    },
    {
     "data": {
      "text/plain": [
       "([<matplotlib.axis.XTick at 0x7ffa6c4260f0>,\n",
       "  <matplotlib.axis.XTick at 0x7ffa6c426198>,\n",
       "  <matplotlib.axis.XTick at 0x7ffa6c3a36a0>,\n",
       "  <matplotlib.axis.XTick at 0x7ffa6c3c6908>],\n",
       " <a list of 4 Text xticklabel objects>)"
      ]
     },
     "execution_count": 71,
     "metadata": {},
     "output_type": "execute_result"
    },
    {
     "data": {
      "text/plain": [
       "Text(0.5, 0, 'Country')"
      ]
     },
     "execution_count": 71,
     "metadata": {},
     "output_type": "execute_result"
    },
    {
     "data": {
      "text/plain": [
       "Text(0, 0.5, 'Money Spent Per Month (USD)')"
      ]
     },
     "execution_count": 71,
     "metadata": {},
     "output_type": "execute_result"
    },
    {
     "data": {
      "text/plain": [
       "Text(0.5, 1.0, 'Money Spent Per Month Per Country')"
      ]
     },
     "execution_count": 71,
     "metadata": {},
     "output_type": "execute_result"
    },
    {
     "data": {
      "image/png": "[encoded data removed]",
      "text/plain": [
       "<Figure size 432x288 with 1 Axes>"
      ]
     },
     "metadata": {
      "needs_background": "light"
     },
     "output_type": "display_data"
    }
   ],
   "source": [
    "data_f = data[data[\"money_for_learning_per_month\"] < 20000]\n",
    "\n",
    "data_f.groupby(\"CountryLive\").mean()[\"money_for_learning_per_month\"][top_four]\n",
    "\n",
    "top_four_spending = data_f[data_f[\"CountryLive\"].str.contains('United States of America|United Kingdom|India|Canada')]\n",
    "sns.boxplot(x=\"CountryLive\", y=\"money_for_learning_per_month\", data=top_four_spending)\n",
    "plt.xticks(range(4), [\"USA\", \"UK\", \"India\", \"Canada\"])\n",
    "plt.xlabel(\"Country\")\n",
    "plt.ylabel(\"Money Spent Per Month (USD)\")\n",
    "plt.title(\"Money Spent Per Month Per Country\")"
   ]
  },
  {
   "cell_type": "markdown",
   "metadata": {},
   "source": [
    "Okay, great. The numbers look better. There still some people spending an absurb amount of money per month, but the values overall seem more reasonable. The high amounts of spending leftover could be explained by people who spent on bootcamps, which can get very expensive."
   ]
  },
  {
   "cell_type": "markdown",
   "metadata": {},
   "source": [
    "### Choosing the Second Market\n",
    "It appears to be clear that the USA is the key market to focus in, based on both number of people and the amount that people are willing to spend. Choosing the second market may not be clear cut.\n",
    "\n",
    "Remember that the original goal of this project is to find the best market to advertise in. The fictional company we doing this research for sells subscriptions for $59 per month. The averages we computed earlier show the average amount people are willing to spend that are _new_ coders. Let's further eliminate the not-as-extreme outliers and see what the numbers look like. There are several other reason to remove these bootcamps from the sample. The data we'll remove are:\n"
   ]
  },
  {
   "cell_type": "code",
   "execution_count": 74,
   "metadata": {},
   "outputs": [
    {
     "data": {
      "text/plain": [
       "CountryLive\n",
       "United States of America    130.639017\n",
       "United Kingdom               45.534443\n",
       "India                        81.812102\n",
       "Canada                       93.065400\n",
       "Name: money_for_learning_per_month, dtype: float64"
      ]
     },
     "execution_count": 74,
     "metadata": {},
     "output_type": "execute_result"
    },
    {
     "data": {
      "text/plain": [
       "<matplotlib.axes._subplots.AxesSubplot at 0x7ffa6c29af28>"
      ]
     },
     "execution_count": 74,
     "metadata": {},
     "output_type": "execute_result"
    },
    {
     "data": {
      "text/plain": [
       "([<matplotlib.axis.XTick at 0x7ffa6c29a550>,\n",
       "  <matplotlib.axis.XTick at 0x7ffa6c29cc88>,\n",
       "  <matplotlib.axis.XTick at 0x7ffa6c2430f0>,\n",
       "  <matplotlib.axis.XTick at 0x7ffa6c259358>],\n",
       " <a list of 4 Text xticklabel objects>)"
      ]
     },
     "execution_count": 74,
     "metadata": {},
     "output_type": "execute_result"
    },
    {
     "data": {
      "text/plain": [
       "Text(0.5, 0, 'Country')"
      ]
     },
     "execution_count": 74,
     "metadata": {},
     "output_type": "execute_result"
    },
    {
     "data": {
      "text/plain": [
       "Text(0, 0.5, 'Money Spent Per Month (USD)')"
      ]
     },
     "execution_count": 74,
     "metadata": {},
     "output_type": "execute_result"
    },
    {
     "data": {
      "text/plain": [
       "Text(0.5, 1.0, 'Money Spent Per Month Per Country')"
      ]
     },
     "execution_count": 74,
     "metadata": {},
     "output_type": "execute_result"
    },
    {
     "data": {
      "image/png": "[encoded data removed]",
      "text/plain": [
       "<Figure size 432x288 with 1 Axes>"
      ]
     },
     "metadata": {
      "needs_background": "light"
     },
     "output_type": "display_data"
    }
   ],
   "source": [
    "data_lt5k = data[data[\"money_for_learning_per_month\"] < 5000]\n",
    "\n",
    "data_lt5k.groupby(\"CountryLive\").mean()[\"money_for_learning_per_month\"][top_four]\n",
    "\n",
    "top_four_spending_lt5k = data_lt5k[data_lt5k[\"CountryLive\"].str.contains('United States of America|United Kingdom|India|Canada')]\n",
    "sns.boxplot(x=\"CountryLive\", y=\"money_for_learning_per_month\", data=top_four_spending_lt5k)\n",
    "plt.xticks(range(4), [\"USA\", \"UK\", \"India\", \"Canada\"])\n",
    "plt.xlabel(\"Country\")\n",
    "plt.ylabel(\"Money Spent Per Month (USD)\")\n",
    "plt.title(\"Money Spent Per Month Per Country\")"
   ]
  },
  {
   "cell_type": "markdown",
   "metadata": {},
   "source": [
    "Further lowering the limit for monthly spending, we actually end up with the monthly spend for Canada slightly higher than India. However, the difference between the two is still low, and well above our $59/month subscription price.\n",
    "\n",
    "We can safely eliminate the UK as the average was barely impacted by removing outliers. The average monthly spending on coding is less than our monthly subscription fee and there will likely be more customers there who will decide not to opt into the fee.\n",
    "\n",
    "There are definitely upsides to advertising in countries outside the USA, but it is also feasible to advertise only within the USA. As for the second market, India presents a large population, and the data suggests that they are almost as willing to spend on training. Canada has a much smaller population, but on average have more wealthy residents and have a culture much more similar to that of the USA.\n",
    "\n",
    "At this point in the analysis, we are probably ready to present the marketing team the results of this research. From there they may have additional requests based on what they find, or perhaps they may decide that these results are enough and make a decision from there."
   ]
  }
 ],
 "metadata": {
  "kernelspec": {
   "display_name": "Python [conda env:shinagawa]",
   "language": "python",
   "name": "conda-env-shinagawa-py"
  },
  "language_info": {
   "codemirror_mode": {
    "name": "ipython",
    "version": 3
   },
   "file_extension": ".py",
   "mimetype": "text/x-python",
   "name": "python",
   "nbconvert_exporter": "python",
   "pygments_lexer": "ipython3",
   "version": "3.7.0"
  }
 },
 "nbformat": 4,
 "nbformat_minor": 2
}
